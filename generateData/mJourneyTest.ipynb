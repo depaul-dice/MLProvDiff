{
 "cells": [
  {
   "cell_type": "code",
   "execution_count": 1,
   "metadata": {},
   "outputs": [],
   "source": [
    "import pickle\n",
    "import networkx as nx\n",
    "import random\n",
    "\n",
    "file_name = \"cat\""
   ]
  },
  {
   "cell_type": "code",
   "execution_count": 2,
   "metadata": {},
   "outputs": [],
   "source": [
    "# load the graph file from ../../Dominators/graphs/{file_name}_combined_graph.pkl\n",
    "with open(f\"../../Dominators/graphs/{file_name}_combined_graph.pkl\", \"rb\") as f:\n",
    "    graph = pickle.load(f)"
   ]
  },
  {
   "cell_type": "code",
   "execution_count": 5,
   "metadata": {},
   "outputs": [],
   "source": [
    "# get the index of the node with label main\n",
    "for i, node in enumerate(graph.nodes):\n",
    "    if graph.nodes[node]['label'] == \"main\":\n",
    "        if graph.nodes[node]['node_type'] == \"ePoint\":\n",
    "            startId = node\n",
    "        else:\n",
    "            endId = node"
   ]
  },
  {
   "cell_type": "code",
   "execution_count": 51,
   "metadata": {},
   "outputs": [],
   "source": [
    "# deactivate a random node in graph\n",
    "random.seed(0)\n",
    "deactivated_node = random.choice(list(graph.nodes))\n",
    "\n",
    "h = graph.copy()\n",
    "h.remove_node(deactivated_node)\n",
    "\n",
    "# get the shortest path from startId to endId\n",
    "shortest_path = nx.shortest_path(h, startId, endId)\n",
    "\n",
    "p2 = nx.shortest_path(graph, startId, endId)"
   ]
  },
  {
   "cell_type": "code",
   "execution_count": 26,
   "metadata": {},
   "outputs": [
    {
     "data": {
      "text/plain": [
       "30"
      ]
     },
     "execution_count": 26,
     "metadata": {},
     "output_type": "execute_result"
    }
   ],
   "source": [
    "len(p2)"
   ]
  },
  {
   "cell_type": "code",
   "execution_count": 24,
   "metadata": {},
   "outputs": [],
   "source": [
    "h = graph.copy()\n",
    "h.remove_node('0x1058d00___1')\n",
    "\n",
    "# get the shortest path from startId to endId\n",
    "shortest_path = nx.shortest_path(h, startId, endId)\n",
    "\n",
    "p2 = nx.shortest_path(graph, startId, endId)"
   ]
  },
  {
   "cell_type": "code",
   "execution_count": 27,
   "metadata": {},
   "outputs": [
    {
     "data": {
      "text/plain": [
       "30"
      ]
     },
     "execution_count": 27,
     "metadata": {},
     "output_type": "execute_result"
    }
   ],
   "source": [
    "len(shortest_path)"
   ]
  },
  {
   "cell_type": "code",
   "execution_count": 33,
   "metadata": {},
   "outputs": [
    {
     "data": {
      "text/plain": [
       "56"
      ]
     },
     "execution_count": 33,
     "metadata": {},
     "output_type": "execute_result"
    }
   ],
   "source": [
    "len(shortest_path)"
   ]
  },
  {
   "cell_type": "code",
   "execution_count": 19,
   "metadata": {},
   "outputs": [
    {
     "data": {
      "text/plain": [
       "'0xdcf130'"
      ]
     },
     "execution_count": 19,
     "metadata": {},
     "output_type": "execute_result"
    }
   ],
   "source": [
    "startId"
   ]
  }
 ],
 "metadata": {
  "kernelspec": {
   "display_name": "practicum",
   "language": "python",
   "name": "python3"
  },
  "language_info": {
   "codemirror_mode": {
    "name": "ipython",
    "version": 3
   },
   "file_extension": ".py",
   "mimetype": "text/x-python",
   "name": "python",
   "nbconvert_exporter": "python",
   "pygments_lexer": "ipython3",
   "version": "3.11.3"
  },
  "orig_nbformat": 4
 },
 "nbformat": 4,
 "nbformat_minor": 2
}
