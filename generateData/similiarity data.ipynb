{
 "cells": [
  {
   "cell_type": "code",
   "execution_count": 5,
   "metadata": {},
   "outputs": [],
   "source": [
    "import pickle\n",
    "from tqdm import tqdm\n",
    "from collections import defaultdict"
   ]
  },
  {
   "cell_type": "code",
   "execution_count": 6,
   "metadata": {},
   "outputs": [],
   "source": [
    "# open ../data/cat_journeys.pkl\n",
    "with open('../data/cat_journeys.pkl', 'rb') as f:\n",
    "    journeys = pickle.load(f)"
   ]
  },
  {
   "cell_type": "code",
   "execution_count": 30,
   "metadata": {},
   "outputs": [
    {
     "name": "stderr",
     "output_type": "stream",
     "text": [
      "  0%|          | 0/1000000 [00:00<?, ?it/s]"
     ]
    },
    {
     "name": "stderr",
     "output_type": "stream",
     "text": [
      "100%|██████████| 1000000/1000000 [00:21<00:00, 47287.90it/s]\n"
     ]
    }
   ],
   "source": [
    "# for each item of journey, check the frequency of each node\n",
    "outer = defaultdict(dict)\n",
    "for journey in tqdm(journeys):\n",
    "    for i, node in enumerate(journey):\n",
    "        if node in outer[i]:\n",
    "            outer[i][node] += 1\n",
    "        else:\n",
    "            outer[i][node] = 1"
   ]
  },
  {
   "cell_type": "code",
   "execution_count": 31,
   "metadata": {},
   "outputs": [
    {
     "name": "stderr",
     "output_type": "stream",
     "text": [
      "100%|██████████| 80/80 [00:00<?, ?it/s]\n"
     ]
    }
   ],
   "source": [
    "# for each item of journey sum the total frequency\n",
    "outer_sum = []\n",
    "for i in tqdm(outer):\n",
    "    total = sum(outer[i].values())\n",
    "    outer_sum.append(total)"
   ]
  },
  {
   "cell_type": "code",
   "execution_count": 49,
   "metadata": {},
   "outputs": [
    {
     "name": "stderr",
     "output_type": "stream",
     "text": [
      "100%|██████████| 80/80 [00:00<00:00, 16871.70it/s]\n"
     ]
    }
   ],
   "source": [
    "same_ave = []\n",
    "# for each elm in inner, elm * elm / total and average it. append to same_ave\n",
    "for i in tqdm(outer):\n",
    "    inner = outer[i]\n",
    "    total = outer_sum[i]\n",
    "    same_ave.append(sum([inner[key]**2 / total**2 for key in inner]))"
   ]
  },
  {
   "cell_type": "code",
   "execution_count": 51,
   "metadata": {},
   "outputs": [
    {
     "data": {
      "text/plain": [
       "[<matplotlib.lines.Line2D at 0x229e2defa50>]"
      ]
     },
     "execution_count": 51,
     "metadata": {},
     "output_type": "execute_result"
    },
    {
     "data": {
      "image/png": "[encoded data removed]",
      "text/plain": [
       "<Figure size 640x480 with 1 Axes>"
      ]
     },
     "metadata": {},
     "output_type": "display_data"
    }
   ],
   "source": [
    "# plot same ave\n",
    "import matplotlib.pyplot as plt\n",
    "\n",
    "# y is the ratio\n",
    "\n",
    "# x is the index of the node\n",
    "\n",
    "plt.plot(same_ave)\n"
   ]
  },
  {
   "cell_type": "code",
   "execution_count": 46,
   "metadata": {},
   "outputs": [
    {
     "data": {
      "text/plain": [
       "{'0xdd1c40': 1, '0x1058d00___1': 999999}"
      ]
     },
     "execution_count": 46,
     "metadata": {},
     "output_type": "execute_result"
    }
   ],
   "source": [
    "outer[33]"
   ]
  }
 ],
 "metadata": {
  "kernelspec": {
   "display_name": "practicum",
   "language": "python",
   "name": "python3"
  },
  "language_info": {
   "codemirror_mode": {
    "name": "ipython",
    "version": 3
   },
   "file_extension": ".py",
   "mimetype": "text/x-python",
   "name": "python",
   "nbconvert_exporter": "python",
   "pygments_lexer": "ipython3",
   "version": "3.11.3"
  },
  "orig_nbformat": 4
 },
 "nbformat": 4,
 "nbformat_minor": 2
}
