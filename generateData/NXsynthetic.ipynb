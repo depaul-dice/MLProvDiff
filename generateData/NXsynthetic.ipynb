{
 "cells": [
  {
   "cell_type": "markdown",
   "metadata": {},
   "source": [
    "# a synthtic data generator for testing the MLdebugger program\n",
    "1. use graphNX"
   ]
  },
  {
   "cell_type": "code",
   "execution_count": 1,
   "metadata": {},
   "outputs": [],
   "source": [
    "import numpy as np\n",
    "\n",
    "# log with base 4\n",
    "def log(x, low):\n",
    "    return np.log(x) / np.log(low)"
   ]
  },
  {
   "cell_type": "code",
   "execution_count": 2,
   "metadata": {},
   "outputs": [
    {
     "name": "stdout",
     "output_type": "stream",
     "text": [
      "parent nodes:  10\n",
      "number of possible traces:  100\n"
     ]
    }
   ],
   "source": [
    "# networknx\n",
    "import networkx as nx\n",
    "import math\n",
    "\n",
    "# create a graph\n",
    "G = nx.DiGraph()\n",
    "\n",
    "# create a simple graph that branches 4 out to have total of 32 nodes\n",
    "# G.add_node(0, node_type=0, label=0)\n",
    "num_nodes = 111\n",
    "branching_factor = 10\n",
    "node_type_count = 2\n",
    "label_count = 11\n",
    "\n",
    "node_types = [i for i in range(node_type_count)]\n",
    "labels = [i for i in range(label_count)]\n",
    "# add all nodes\n",
    "for i in range(num_nodes):\n",
    "    G.add_node(i, node_type=node_types[i % node_type_count], label=labels[i % label_count])\n",
    "\n",
    "# add all edges\n",
    "idx1 = 0\n",
    "idx2 = 1\n",
    "while idx2 < num_nodes:\n",
    "    for _ in range(branching_factor):\n",
    "        if idx2 >= num_nodes:\n",
    "            break\n",
    "        G.add_edge(idx1, idx2)\n",
    "        idx2 += 1\n",
    "    idx1 += 1\n",
    "\n",
    "# number of child nodes using total number of nodes and branching factor\n",
    "accum = 1\n",
    "curr_level = 0\n",
    "while True:\n",
    "    temp = accum + branching_factor ** (curr_level + 1)\n",
    "    if temp >= num_nodes:\n",
    "        num_parent = math.ceil((num_nodes - accum) / branching_factor)\n",
    "        print(\"parent nodes: \", num_parent)\n",
    "        child = branching_factor ** (curr_level) - num_parent + num_nodes - accum\n",
    "        break\n",
    "    accum = temp\n",
    "    curr_level += 1\n",
    "\n",
    "print(\"number of possible traces: \", child)\n",
    "    \n"
   ]
  },
  {
   "cell_type": "code",
   "execution_count": 3,
   "metadata": {},
   "outputs": [],
   "source": [
    "# generate traces\n",
    "journeys = []\n",
    "\n",
    "def dfs(stack, journey):\n",
    "    # get current node\n",
    "    curr = stack.pop()\n",
    "    \n",
    "    # if end of journey, add to list\n",
    "    if len(G.adj[curr]) == 0:\n",
    "        journeys.append(journey)\n",
    "        return\n",
    "\n",
    "    # iterate\n",
    "    for neighbor in G.adj[curr]:\n",
    "        dfs(stack + [neighbor], journey + [neighbor])\n",
    "\n",
    "dfs([0], [0])"
   ]
  },
  {
   "cell_type": "code",
   "execution_count": 4,
   "metadata": {},
   "outputs": [],
   "source": [
    "import pickle\n",
    "# save the graph to ../MLdebugger/data/syn_graph1.pkl\n",
    "with open('../MLdebugger/data/syn1_combined_graph.pkl', 'wb') as f:\n",
    "    pickle.dump(G, f)\n",
    "\n",
    "# save the graph to ../MLdebugger/data/syn_journeys1.pkl\n",
    "with open('../MLdebugger/data/syn1_journeys.pkl', 'wb') as f:\n",
    "    pickle.dump(journeys, f)"
   ]
  }
 ],
 "metadata": {
  "kernelspec": {
   "display_name": "practicum",
   "language": "python",
   "name": "python3"
  },
  "language_info": {
   "codemirror_mode": {
    "name": "ipython",
    "version": 3
   },
   "file_extension": ".py",
   "mimetype": "text/x-python",
   "name": "python",
   "nbconvert_exporter": "python",
   "pygments_lexer": "ipython3",
   "version": "3.11.3"
  },
  "orig_nbformat": 4
 },
 "nbformat": 4,
 "nbformat_minor": 2
}
