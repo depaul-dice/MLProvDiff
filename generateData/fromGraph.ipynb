{
 "cells": [
  {
   "cell_type": "code",
   "execution_count": 3,
   "metadata": {},
   "outputs": [],
   "source": [
    "## produce data from graph\n",
    "filename = \"cat\""
   ]
  },
  {
   "cell_type": "code",
   "execution_count": 4,
   "metadata": {},
   "outputs": [
    {
     "name": "stdout",
     "output_type": "stream",
     "text": [
      "min:  48\n",
      "max:  123\n",
      "avg:  75.63157894736842\n"
     ]
    },
    {
     "data": {
      "image/png": "[encoded data removed]",
      "text/plain": [
       "<Figure size 640x480 with 1 Axes>"
      ]
     },
     "metadata": {},
     "output_type": "display_data"
    }
   ],
   "source": [
    "import glob\n",
    "import matplotlib.pyplot as plt\n",
    "\n",
    "## check the distribution of the traces\n",
    "lens = []\n",
    "\n",
    "# read the *.ftr in the folders under the path ../../Traces/traces\n",
    "for file in glob.glob(f\"../../Traces/traces/{filename}\"):\n",
    "    for ftr in glob.glob(file + \"/*.ftr\"):\n",
    "        # read ftr\n",
    "        with open(ftr, \"r\") as f:\n",
    "            lineLen = len(f.readlines())\n",
    "            lens.append(lineLen)\n",
    "\n",
    "# show the distribution\n",
    "print(\"min: \", min(lens))\n",
    "print(\"max: \", max(lens))\n",
    "print(\"avg: \", sum(lens) / len(lens))\n",
    "\n",
    "plt.hist(lens, bins=100)\n",
    "plt.show()\n",
    "\n",
    "# make the min and max length of the traces\n",
    "minLen = min(lens)\n",
    "maxLen = 80"
   ]
  },
  {
   "cell_type": "code",
   "execution_count": 5,
   "metadata": {},
   "outputs": [],
   "source": [
    "import networkx as nx\n",
    "import json\n",
    "import pickle\n",
    "\n",
    "# read the graph with pickle\n",
    "with open(f\"../../Dominators/graphs/{filename}_combined_graph.pkl\", \"rb\") as f:\n",
    "    graph = pickle.load(f)\n",
    "\n",
    "# get the id of start and the end node\n",
    "with open(f\"../../Traces/progSpec/{filename}.json\", \"r\") as f:\n",
    "    funcs = json.load(f)\n",
    "    for func in funcs:\n",
    "        if func[\"function name\"] == \"main\":\n",
    "            for node in func[\"nodes\"]:\n",
    "                if node[\"type\"] == \"ePoint\":\n",
    "                    startId = node[\"id\"]\n",
    "                if node[\"type\"] == \"retCall\":\n",
    "                    endId = node[\"id\"]"
   ]
  },
  {
   "cell_type": "code",
   "execution_count": 6,
   "metadata": {},
   "outputs": [],
   "source": [
    "# increase the recursion limit\n",
    "import sys\n",
    "sys.setrecursionlimit(10000000)"
   ]
  },
  {
   "cell_type": "code",
   "execution_count": null,
   "metadata": {},
   "outputs": [],
   "source": [
    "import glob\n",
    "import matplotlib.pyplot as plt\n",
    "import json\n",
    "\n",
    "## check the distribution of the traces\n",
    "traces = []\n",
    "\n",
    "# read the *.ftr in the folders under the path ../../Traces/traces\n",
    "for file in glob.glob(f\"../../Traces/traces/{filename}\"):\n",
    "    for ftr in glob.glob(file + \"/*.ftr\"):\n",
    "        # read ftr\n",
    "        with open(ftr, \"r\") as f:\n",
    "            traces.append(list(map(lambda x : x.strip('\\n'), f.readlines())))\n",
    "\n",
    "# get the labels of the ground traces\n",
    "freq = {}\n",
    "for trace in traces:\n",
    "    for label in trace:\n",
    "        label = label.strip(\"/\")\n",
    "        if label in freq:\n",
    "            freq[label] += 1\n",
    "        else:\n",
    "            freq[label] = 1"
   ]
  },
  {
   "cell_type": "code",
   "execution_count": 10,
   "metadata": {},
   "outputs": [],
   "source": [
    "# retrieving all journies require more than 3.5GB memory and 70 mins. Not feasible. \n",
    "\n",
    "# do a dfs\n",
    "journeys_dfs = []\n",
    "\n",
    "stack = [startId]\n",
    "\n",
    "def dfs(stack, journey):\n",
    "    global graph\n",
    "\n",
    "    node = stack.pop()\n",
    "\n",
    "    if len(journey) > maxLen or len(journeys_dfs) >= 10e5:\n",
    "        return\n",
    "    elif node == endId:\n",
    "        journeys_dfs.append(journey.copy())\n",
    "        return\n",
    "    \n",
    "    for neighbor in graph.neighbors(node):\n",
    "        stack.append(neighbor)\n",
    "        journey.append(neighbor)\n",
    "        dfs(stack, journey)\n",
    "        journey.pop()\n",
    "\n",
    "dfs(stack, [startId])"
   ]
  },
  {
   "cell_type": "code",
   "execution_count": 8,
   "metadata": {},
   "outputs": [],
   "source": [
    "# do a bfs\n",
    "from collections import deque\n",
    "\n",
    "journeys_bfs = []\n",
    "\n",
    "dq = deque([startId])\n",
    "\n",
    "def bfs(dq, journey):\n",
    "    global graph\n",
    "\n",
    "    node = dq.popleft()\n",
    "\n",
    "    if len(journey) > maxLen or len(journeys_bfs) >= 10e5:\n",
    "        return\n",
    "    elif node == endId:\n",
    "        journeys_bfs.append(journey.copy())\n",
    "        return\n",
    "    \n",
    "    for neighbor in graph.neighbors(node):\n",
    "        dq.append(neighbor)\n",
    "        journey.append(neighbor)\n",
    "        bfs(dq, journey)\n",
    "        journey.pop()\n",
    "\n",
    "bfs(dq, [startId])"
   ]
  },
  {
   "cell_type": "code",
   "execution_count": 11,
   "metadata": {},
   "outputs": [
    {
     "name": "stdout",
     "output_type": "stream",
     "text": [
      "min:  35\n",
      "max:  80\n",
      "avg:  78.500004\n"
     ]
    },
    {
     "data": {
      "image/png": "[encoded data removed]",
      "text/plain": [
       "<Figure size 640x480 with 1 Axes>"
      ]
     },
     "metadata": {},
     "output_type": "display_data"
    }
   ],
   "source": [
    "# check the distribution of the length of the journies\n",
    "lens = []\n",
    "for journey in journeys_dfs:\n",
    "    lens.append(len(journey))\n",
    "\n",
    "print(\"min: \", min(lens))\n",
    "print(\"max: \", max(lens))\n",
    "print(\"avg: \", sum(lens) / len(lens))\n",
    "\n",
    "plt.hist(lens, bins=100)\n",
    "plt.show()"
   ]
  },
  {
   "cell_type": "code",
   "execution_count": 47,
   "metadata": {},
   "outputs": [],
   "source": [
    "import pickle\n",
    "\n",
    "# save the journeys\n",
    "with open(f\"../data/{filename}_journeys.pkl\", \"wb\") as f:\n",
    "    pickle.dump(journeys_dfs, f)"
   ]
  }
 ],
 "metadata": {
  "kernelspec": {
   "display_name": "practicum",
   "language": "python",
   "name": "python3"
  },
  "language_info": {
   "codemirror_mode": {
    "name": "ipython",
    "version": 3
   },
   "file_extension": ".py",
   "mimetype": "text/x-python",
   "name": "python",
   "nbconvert_exporter": "python",
   "pygments_lexer": "ipython3",
   "version": "3.11.3"
  },
  "orig_nbformat": 4
 },
 "nbformat": 4,
 "nbformat_minor": 2
}
