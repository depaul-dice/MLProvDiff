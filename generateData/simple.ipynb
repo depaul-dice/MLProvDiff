{
 "cells": [
  {
   "cell_type": "code",
   "execution_count": 1,
   "metadata": {},
   "outputs": [],
   "source": [
    "import numpy as np\n",
    "import matplotlib.pyplot as plt\n",
    "import random\n",
    "import torch\n",
    "import pickle\n",
    "import math"
   ]
  },
  {
   "attachments": {},
   "cell_type": "markdown",
   "metadata": {},
   "source": [
    "### Change the parameters below. Just run the rest. "
   ]
  },
  {
   "cell_type": "code",
   "execution_count": 24,
   "metadata": {},
   "outputs": [],
   "source": [
    "# Number of Traces\n",
    "N_SAMPLE = 4\n",
    "\n",
    "# Number of Fanout\n",
    "N_FANOUT = 4"
   ]
  },
  {
   "cell_type": "code",
   "execution_count": 25,
   "metadata": {},
   "outputs": [],
   "source": [
    "# log with base 4\n",
    "def log(x):\n",
    "    return np.log(x) / np.log(N_FANOUT)"
   ]
  },
  {
   "cell_type": "code",
   "execution_count": 26,
   "metadata": {},
   "outputs": [
    {
     "name": "stdout",
     "output_type": "stream",
     "text": [
      "Required DEPTH:  1\n"
     ]
    }
   ],
   "source": [
    "depth = math.ceil(log(N_SAMPLE))\n",
    "print(\"Required DEPTH: \", depth)"
   ]
  },
  {
   "attachments": {},
   "cell_type": "markdown",
   "metadata": {},
   "source": [
    "### Create graph"
   ]
  },
  {
   "cell_type": "code",
   "execution_count": 27,
   "metadata": {},
   "outputs": [],
   "source": [
    "edgeList = [[]]\n",
    "pointer = 0\n",
    "# go down every loop\n",
    "for i in range(depth):\n",
    "    # add a layer of nodes\n",
    "    for j in range(N_FANOUT**i):\n",
    "        edgeNum = len(edgeList)\n",
    "        for r in range(N_FANOUT):\n",
    "            edgeList.append([])\n",
    "            edgeList[pointer].append(edgeNum + r)\n",
    "        pointer += 1"
   ]
  },
  {
   "attachments": {},
   "cell_type": "markdown",
   "metadata": {},
   "source": [
    "### Create a data with the required depth"
   ]
  },
  {
   "cell_type": "code",
   "execution_count": 32,
   "metadata": {},
   "outputs": [],
   "source": [
    "# create a list of unique 10 traces\n",
    "traces = set()\n",
    "while len(traces) < N_SAMPLE:\n",
    "    # end the trace when the node has no child\n",
    "    trace = [0]\n",
    "    node = 0\n",
    "    while len(edgeList[node]) > 0:\n",
    "        node = random.choice(edgeList[node])\n",
    "        trace.append(node)\n",
    "    \n",
    "    # add the trace to the set if it is of length 9\n",
    "    if len(trace) == depth+1:\n",
    "        traces.add(tuple(trace))\n",
    "\n",
    "a = list(traces)\n",
    "# convert the traces to pytorch tensor\n",
    "traces = torch.tensor(a, dtype=torch.float32)"
   ]
  },
  {
   "attachments": {},
   "cell_type": "markdown",
   "metadata": {},
   "source": [
    "### Convert to Adjacency Matrix"
   ]
  },
  {
   "cell_type": "code",
   "execution_count": 33,
   "metadata": {},
   "outputs": [],
   "source": [
    "adjacencyMatrix = np.zeros((len(edgeList), len(edgeList)))\n",
    "for i in range(len(edgeList)):\n",
    "    for j in edgeList[i]:\n",
    "        adjacencyMatrix[i][j] = 1\n",
    "        \n",
    "# to tensor\n",
    "adjacencyMatrix = torch.tensor(adjacencyMatrix, dtype=torch.float32)"
   ]
  },
  {
   "cell_type": "markdown",
   "metadata": {},
   "source": [
    "### One hot encoding"
   ]
  },
  {
   "cell_type": "code",
   "execution_count": 34,
   "metadata": {},
   "outputs": [],
   "source": [
    "nodeLabels = np.zeros((len(edgeList), len(edgeList)))\n",
    "for i in range(len(edgeList)):\n",
    "    nodeLabels[i][i] = 1\n",
    "\n",
    "# to tensor\n",
    "nodeLabels = torch.tensor(nodeLabels, dtype=torch.float32)"
   ]
  },
  {
   "cell_type": "code",
   "execution_count": 35,
   "metadata": {},
   "outputs": [
    {
     "data": {
      "text/plain": [
       "tensor([[0., 1., 1., 1., 1.],\n",
       "        [0., 0., 0., 0., 0.],\n",
       "        [0., 0., 0., 0., 0.],\n",
       "        [0., 0., 0., 0., 0.],\n",
       "        [0., 0., 0., 0., 0.]])"
      ]
     },
     "execution_count": 35,
     "metadata": {},
     "output_type": "execute_result"
    }
   ],
   "source": [
    "adjacencyMatrix"
   ]
  },
  {
   "cell_type": "markdown",
   "metadata": {},
   "source": [
    "### Output the data"
   ]
  },
  {
   "cell_type": "code",
   "execution_count": 11,
   "metadata": {},
   "outputs": [],
   "source": [
    "# pickle the data\n",
    "pickle.dump(adjacencyMatrix, open(\"adjacencyMatrix.pkl\", \"wb\"))\n",
    "pickle.dump(nodeLabels, open(\"nodeLabels.pkl\", \"wb\"))\n",
    "pickle.dump(traces, open(\"traces.pkl\", \"wb\"))"
   ]
  }
 ],
 "metadata": {
  "kernelspec": {
   "display_name": "Python 3",
   "language": "python",
   "name": "python3"
  },
  "language_info": {
   "codemirror_mode": {
    "name": "ipython",
    "version": 3
   },
   "file_extension": ".py",
   "mimetype": "text/x-python",
   "name": "python",
   "nbconvert_exporter": "python",
   "pygments_lexer": "ipython3",
   "version": "3.10.9"
  },
  "orig_nbformat": 4
 },
 "nbformat": 4,
 "nbformat_minor": 2
}
