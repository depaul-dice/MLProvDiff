{
 "cells": [
  {
   "cell_type": "code",
   "execution_count": 2,
   "metadata": {},
   "outputs": [],
   "source": [
    "import numpy as np\n",
    "import matplotlib.pyplot as plt\n",
    "import random\n",
    "import torch\n",
    "import pickle"
   ]
  },
  {
   "attachments": {},
   "cell_type": "markdown",
   "metadata": {},
   "source": [
    "### the distribution of the number of fan-out follows pois(2)"
   ]
  },
  {
   "cell_type": "code",
   "execution_count": 34,
   "metadata": {},
   "outputs": [
    {
     "data": {
      "image/png": "[encoded data removed]",
      "text/plain": [
       "<Figure size 640x480 with 1 Axes>"
      ]
     },
     "metadata": {},
     "output_type": "display_data"
    }
   ],
   "source": [
    "# seed the random number generator\n",
    "np.random.seed(2023)\n",
    "s = np.random.poisson(lam=2, size=1000)\n",
    "\n",
    "count, bins, ignored = plt.hist(s, 20)\n",
    "\n",
    "# Plot the distribution curve\n",
    "plt.show()"
   ]
  },
  {
   "attachments": {},
   "cell_type": "markdown",
   "metadata": {},
   "source": [
    "### create graph\n",
    "- graph fan out count follows poisson of lambda = 2\n",
    "- Roughly 400 nodes, 200 leaves"
   ]
  },
  {
   "cell_type": "code",
   "execution_count": 35,
   "metadata": {},
   "outputs": [],
   "source": [
    "edgeList = [[]]\n",
    "pointer = 0\n",
    "\n",
    "# continue adding nodes \n",
    "while len(edgeList) - pointer < 200 and pointer < len(edgeList):\n",
    "    # add child nodes\n",
    "    # connect the nodes\n",
    "    childNum = s[pointer]\n",
    "    edgeNum = len(edgeList)\n",
    "    for i in range(childNum):\n",
    "        edgeList.append([])\n",
    "        edgeList[pointer].append(edgeNum+i)\n",
    "\n",
    "    pointer += 1"
   ]
  },
  {
   "attachments": {},
   "cell_type": "markdown",
   "metadata": {},
   "source": [
    "### Create 10 Traces"
   ]
  },
  {
   "cell_type": "code",
   "execution_count": 40,
   "metadata": {},
   "outputs": [],
   "source": [
    "# create a list of unique 10 traces\n",
    "traces = set()\n",
    "while len(traces) < 10:\n",
    "    # end the trace when the node has no child\n",
    "    trace = [0]\n",
    "    node = 0\n",
    "    while len(edgeList[node]) > 0:\n",
    "        node = random.choice(edgeList[node])\n",
    "        trace.append(node)\n",
    "    \n",
    "    # add the trace to the set if it is of length 9\n",
    "    if len(trace) == 9:\n",
    "        traces.add(tuple(trace))\n",
    "\n",
    "# convert the traces to pytorch tensor\n",
    "traces = torch.tensor(list(traces), dtype=torch.float32)\n"
   ]
  },
  {
   "attachments": {},
   "cell_type": "markdown",
   "metadata": {},
   "source": [
    "### Convert to Adjacency Matrix"
   ]
  },
  {
   "cell_type": "code",
   "execution_count": 41,
   "metadata": {},
   "outputs": [],
   "source": [
    "adjacencyMatrix = np.zeros((len(edgeList), len(edgeList)))\n",
    "for i in range(len(edgeList)):\n",
    "    for j in edgeList[i]:\n",
    "        adjacencyMatrix[i][j] = 1\n",
    "        \n",
    "# to tensor\n",
    "adjacencyMatrix = torch.tensor(adjacencyMatrix, dtype=torch.float32)"
   ]
  },
  {
   "cell_type": "markdown",
   "metadata": {},
   "source": [
    "### One hot encoding"
   ]
  },
  {
   "cell_type": "code",
   "execution_count": 42,
   "metadata": {},
   "outputs": [],
   "source": [
    "nodeLabels = np.zeros((len(edgeList), len(edgeList)))\n",
    "for i in range(len(edgeList)):\n",
    "    nodeLabels[i][i] = 1\n",
    "\n",
    "# to tensor\n",
    "nodeLabels = torch.tensor(nodeLabels, dtype=torch.float32)"
   ]
  },
  {
   "cell_type": "markdown",
   "metadata": {},
   "source": [
    "### Output the data"
   ]
  },
  {
   "cell_type": "code",
   "execution_count": 43,
   "metadata": {},
   "outputs": [],
   "source": [
    "# pickle the data\n",
    "pickle.dump(adjacencyMatrix, open(\"adjacencyMatrix.pkl\", \"wb\"))\n",
    "pickle.dump(nodeLabels, open(\"nodeLabels.pkl\", \"wb\"))\n",
    "pickle.dump(traces, open(\"traces.pkl\", \"wb\"))"
   ]
  },
  {
   "cell_type": "code",
   "execution_count": 11,
   "metadata": {},
   "outputs": [
    {
     "data": {
      "text/plain": [
       "tensor([[1., 0., 0.,  ..., 0., 0., 0.],\n",
       "        [0., 1., 0.,  ..., 0., 0., 0.],\n",
       "        [0., 0., 1.,  ..., 0., 0., 0.],\n",
       "        ...,\n",
       "        [0., 0., 0.,  ..., 1., 0., 0.],\n",
       "        [0., 0., 0.,  ..., 0., 1., 0.],\n",
       "        [0., 0., 0.,  ..., 0., 0., 1.]])"
      ]
     },
     "execution_count": 11,
     "metadata": {},
     "output_type": "execute_result"
    }
   ],
   "source": [
    "pickle.load(open(\"nodeLabels.pkl\", \"rb\"))"
   ]
  }
 ],
 "metadata": {
  "kernelspec": {
   "display_name": "Python 3",
   "language": "python",
   "name": "python3"
  },
  "language_info": {
   "codemirror_mode": {
    "name": "ipython",
    "version": 3
   },
   "file_extension": ".py",
   "mimetype": "text/x-python",
   "name": "python",
   "nbconvert_exporter": "python",
   "pygments_lexer": "ipython3",
   "version": "3.10.7"
  },
  "orig_nbformat": 4
 },
 "nbformat": 4,
 "nbformat_minor": 2
}
