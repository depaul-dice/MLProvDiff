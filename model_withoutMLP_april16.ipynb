{
 "cells": [
  {
   "cell_type": "code",
   "execution_count": 1,
   "metadata": {},
   "outputs": [],
   "source": [
    "#pip3 install clean-fid numba numpy torch==2.0.0+cu118 torchvision --force-reinstall --extra-index-url https://download.pytorch.org/whl/cu118\n",
    "#pip install pyg_lib torch_scatter torch_sparse -f https://data.pyg.org/whl/torch-2.0.0+cu118html\n",
    "#pip install torch-sparse -f https://data.pyg.org/whl/torch-2.0.0+cu117.html\n",
    "# check torch, torch-sparse, torch-scatter, pytorch_geometric versions\n",
    "\n",
    "import random\n",
    "import numpy as np\n",
    "\n",
    "from torch import nn\n",
    "import torch\n",
    "\n",
    "import torch.nn.functional as F\n",
    "from torch_geometric.data import Data\n",
    "\n",
    "import torch_geometric.transforms as T\n",
    "from torch_geometric.nn import SGConv\n",
    "import pickle\n",
    "\n",
    "import torch_geometric.transforms as T\n",
    "from torch_geometric.nn import GCNConv, SAGEConv\n",
    "\n",
    "import os\n",
    "from torch.autograd import Variable\n",
    "from torch.utils.data import Dataset, DataLoader"
   ]
  },
  {
   "cell_type": "code",
   "execution_count": 214,
   "metadata": {},
   "outputs": [
    {
     "data": {
      "text/plain": [
       "'/home/dhruvs/depaul_graphsage/trials'"
      ]
     },
     "execution_count": 214,
     "metadata": {},
     "output_type": "execute_result"
    }
   ],
   "source": [
    "os.getcwd()"
   ]
  },
  {
   "attachments": {},
   "cell_type": "markdown",
   "metadata": {},
   "source": [
    "### Graphsage Architecture"
   ]
  },
  {
   "cell_type": "code",
   "execution_count": 2,
   "metadata": {},
   "outputs": [],
   "source": [
    "class GraphSAGE(torch.nn.Module):\n",
    "\n",
    "    \"\"\"\n",
    "    input dimension: dimension of the feature vector\n",
    "    output dimension: dimension of the node (this should be equal to the dmension of the trace)\n",
    "    \"\"\"\n",
    "    def __init__(self, in_dim, hidden_dim, out_dim, dropout=0.2):\n",
    "        super().__init__()\n",
    "        self.dropout = dropout\n",
    "        self.conv1 = SAGEConv(in_dim, hidden_dim)\n",
    "        self.conv2 = SAGEConv(hidden_dim, hidden_dim)\n",
    "        self.conv3 = SAGEConv(hidden_dim, out_dim)\n",
    "    \n",
    "    def forward(self, data):\n",
    "        x, adj_t = data.x, data.edge_index\n",
    "        x = self.conv1(x, adj_t)\n",
    "        x = F.sigmoid(x)\n",
    "        x = F.dropout(x, p=self.dropout)\n",
    "        \n",
    "        x = self.conv2(x, adj_t)\n",
    "        x = F.sigmoid(x)\n",
    "        x = F.dropout(x, p=self.dropout)\n",
    "        \n",
    "        x = self.conv3(x, adj_t)\n",
    "        x = F.sigmoid(x)\n",
    "        x = F.dropout(x, p=self.dropout)\n",
    "        #return torch.log_softmax(x, dim=-1)\n",
    "        #print(\"output graphsage\", x)\n",
    "        return x"
   ]
  },
  {
   "attachments": {},
   "cell_type": "markdown",
   "metadata": {},
   "source": [
    "### MLP Architecture"
   ]
  },
  {
   "cell_type": "code",
   "execution_count": 216,
   "metadata": {},
   "outputs": [
    {
     "data": {
      "text/plain": [
       "'\\nclass MLP(torch.nn.Module):\\n    This will the one-hot encoded labels of all the nodes in the graph and output \\n    a output_dim long vector\\n\\n    input dim: vocab size\\n    output dim: 100 (a hyperparameter)\\n    def __init__(self, input_dim, output_dim, hidden_dim1, hidden_dim2):\\n        super().__init__()\\n\\n        self.input_fc = nn.Linear(input_dim, hidden_dim1)\\n        self.hidden_fc = nn.Linear(hidden_dim1,hidden_dim2)\\n        self.output_fc = nn.Linear(hidden_dim2, output_dim)\\n\\n    def forward(self, x):\\n        # x = [num_nodes,vocab_size] (412, 412)\\n        h_1 = F.sigmoid(self.input_fc(x))\\n        # h_1 = [num_nodes, 200] (412, 200)\\n\\n        h_2 = F.sigmoid(self.hidden_fc(h_1))\\n        # h_2 = [num_nodes, 150] (412, 150)\\n\\n        output_mlp = self.output_fc(h_2)\\n        #output_mlp = [num_nodes, output_dim] (412, 100)\\n\\n        return output_mlp\\n'"
      ]
     },
     "execution_count": 216,
     "metadata": {},
     "output_type": "execute_result"
    }
   ],
   "source": [
    "\"\"\"\n",
    "class MLP(torch.nn.Module):\n",
    "    This will the one-hot encoded labels of all the nodes in the graph and output \n",
    "    a output_dim long vector\n",
    "\n",
    "    input dim: vocab size\n",
    "    output dim: 100 (a hyperparameter)\n",
    "    def __init__(self, input_dim, output_dim, hidden_dim1, hidden_dim2):\n",
    "        super().__init__()\n",
    "\n",
    "        self.input_fc = nn.Linear(input_dim, hidden_dim1)\n",
    "        self.hidden_fc = nn.Linear(hidden_dim1,hidden_dim2)\n",
    "        self.output_fc = nn.Linear(hidden_dim2, output_dim)\n",
    "\n",
    "    def forward(self, x):\n",
    "        # x = [num_nodes,vocab_size] (412, 412)\n",
    "        h_1 = F.sigmoid(self.input_fc(x))\n",
    "        # h_1 = [num_nodes, 200] (412, 200)\n",
    "\n",
    "        h_2 = F.sigmoid(self.hidden_fc(h_1))\n",
    "        # h_2 = [num_nodes, 150] (412, 150)\n",
    "\n",
    "        output_mlp = self.output_fc(h_2)\n",
    "        #output_mlp = [num_nodes, output_dim] (412, 100)\n",
    "\n",
    "        return output_mlp\n",
    "\"\"\""
   ]
  },
  {
   "attachments": {},
   "cell_type": "markdown",
   "metadata": {},
   "source": [
    "### LSTM Architecture"
   ]
  },
  {
   "cell_type": "code",
   "execution_count": 3,
   "metadata": {},
   "outputs": [],
   "source": [
    "\"\"\"\n",
    "class lstm(nn.Module):\n",
    "\tdef __init__(self, batch_size, output_size, hidden_size, vocab_size):\n",
    "\t\tsuper(lstm, self).__init__()\n",
    "\t\tself.batch_size = batch_size\n",
    "\t\tself.output_size = output_size\n",
    "\t\tself.hidden_size = hidden_size\n",
    "\t\tself.vocab_size = vocab_size\n",
    "\t\tself.lstm = nn.LSTM(vocab_size, hidden_size)\n",
    "\t\tself.label = nn.Linear(hidden_size, output_size)\n",
    "\n",
    "\n",
    "\tdef forward(self, input_sentence, batch_size=None):\n",
    "\t\tinput = input_sentence.permute(1, 0, 2) \n",
    "\t\th_0 = Variable(torch.zeros(1, batch_size, self.hidden_size))\n",
    "\t\tc_0 = Variable(torch.zeros(1, batch_size, self.hidden_size))\n",
    "\t\toutput, (final_hidden_state, final_cell_state) = self.lstm(input, (h_0, c_0))\n",
    "\t\tfinal_output = self.label(output) \n",
    "\t\t#print(\"final_output from lstm\", final_output)\n",
    "\t\treturn (final_output)\n",
    "\"\"\"\n",
    "\n",
    "class BRNN(nn.Module):\n",
    "    def __init__(self, input_size, hidden_size, num_layers, output_dim):\n",
    "        super(BRNN, self).__init__()\n",
    "        self.input_size = input_size\n",
    "        self.hidden_size = hidden_size\n",
    "        self.num_layers = num_layers\n",
    "        self.output_dim = output_dim\n",
    "\n",
    "        self.lstm = nn.LSTM(input_size, hidden_size, num_layers, batch_first = True,\n",
    "                            bidirectional = True)\n",
    "        self.fc = nn.Linear(hidden_size*2, output_dim)\n",
    "\n",
    "    def forward(self, x):\n",
    "        h0 = torch.zeros(self.num_layers*2, x.size(0), self.hidden_size)\n",
    "        c0 = torch.zeros(self.num_layers*2, x.size(0), self.hidden_size)\n",
    "\n",
    "        out, (hidden_state, cell_state) = self.lstm(x,(h0,c0))\n",
    "        out = self.fc(out)\n",
    "        return out"
   ]
  },
  {
   "attachments": {},
   "cell_type": "markdown",
   "metadata": {},
   "source": [
    "### Training"
   ]
  },
  {
   "cell_type": "code",
   "execution_count": 4,
   "metadata": {},
   "outputs": [],
   "source": [
    "def train(model_graphsage, optimizer_graphsage,\n",
    "        model_lstm, optimizer_lstm,\n",
    "        data_nodeLabels, data_adjacencyMatrix):\n",
    "    \n",
    "\n",
    "    model_lstm.train()\n",
    "    it = iter(train_iter)\n",
    "    accuracy_batch_list = []\n",
    "    loss_batch_list = []\n",
    "    for i, batch in enumerate(it):\n",
    "        \n",
    "        # create a graphsage custom data\n",
    "        #print(\"adj_2d inside train\", adj_2d)\n",
    "        #print(\"adj_2d inside train\", batch)\n",
    "        data = Data(x=data_nodeLabels, edge_index=adj_2d.t().contiguous())\n",
    "\n",
    "        #call graphsage\n",
    "        model_graphsage.train()\n",
    "        optimizer_graphsage.zero_grad()\n",
    "        out_graphsage = model_graphsage(data)\n",
    "\n",
    "        model_lstm.train()\n",
    "        optimizer_lstm.zero_grad()\n",
    "        output_lstm = model_lstm(batch)\n",
    "        \n",
    "        loss_calc, result = calculate_loss(output_lstm, out_graphsage, batch)\n",
    "        accuracy = evaluate_training(result, batch)\n",
    "        accuracy_batch_list.append(accuracy)\n",
    "        loss_batch_list.append(loss_calc.item())\n",
    "        \n",
    "        loss_calc.backward()\n",
    "        \n",
    "        optimizer_graphsage.step()\n",
    "        optimizer_lstm.step()\n",
    "    accuracy_entire_epoch = sum(accuracy_batch_list)/len(accuracy_batch_list)\n",
    "    loss_entire_epoch = sum(loss_batch_list)/len(loss_batch_list)\n",
    "    \n",
    "    return (accuracy_entire_epoch, loss_entire_epoch)"
   ]
  },
  {
   "attachments": {},
   "cell_type": "markdown",
   "metadata": {},
   "source": [
    "### Loss function"
   ]
  },
  {
   "cell_type": "code",
   "execution_count": 5,
   "metadata": {},
   "outputs": [],
   "source": [
    "def calculate_loss(output_lstm, out_graphsage, batch):\n",
    "    # batch here is the true representation. This is because the vectors in batch are \n",
    "    # one hot encoded traces\n",
    "    out_graphsage_reshaped = torch.transpose(out_graphsage, 0, 1)\n",
    "    dot_product = torch.matmul(output_lstm, out_graphsage_reshaped)\n",
    "    sm = nn.Softmax(dim=2)\n",
    "    \n",
    "    dot_product = sm(dot_product)\n",
    "    \n",
    "    loss_calc = loss_fn(dot_product,batch)\n",
    "    #evaluate_training(c,batch)\n",
    "    return (loss_calc, dot_product)"
   ]
  },
  {
   "attachments": {},
   "cell_type": "markdown",
   "metadata": {},
   "source": [
    "### Evaluate training accuracy"
   ]
  },
  {
   "cell_type": "code",
   "execution_count": 6,
   "metadata": {},
   "outputs": [],
   "source": [
    "def evaluate_training(result, truth):\n",
    "    \n",
    "    argmaxed_result = torch.argmax(result, dim=2)\n",
    "    argmaxed_truth = torch.argmax(truth, dim=2)\n",
    "    #(\"argmaxed result:\" , argmaxed_result)\n",
    "    #print(\"argmaxed truth:\" , argmaxed_truth)\n",
    "    number_correctly_mapped = 0\n",
    "    for i in range(len(argmaxed_result)):\n",
    "        trace_res =  argmaxed_result[i]\n",
    "        trace_orig = argmaxed_truth[i]\n",
    "        if torch.equal(trace_res,trace_orig):\n",
    "            number_correctly_mapped+= 1\n",
    "    \n",
    "    accuracy = number_correctly_mapped/len(argmaxed_result)\n",
    "\n",
    "    return accuracy"
   ]
  },
  {
   "attachments": {},
   "cell_type": "markdown",
   "metadata": {},
   "source": [
    "### Dataset Preprocessing"
   ]
  },
  {
   "attachments": {},
   "cell_type": "markdown",
   "metadata": {},
   "source": [
    "#### Converting sparse adjacency matrix to dense"
   ]
  },
  {
   "cell_type": "code",
   "execution_count": 7,
   "metadata": {},
   "outputs": [],
   "source": [
    "def structure_adjacency_matrix():\n",
    "    \"\"\"\n",
    "    This method is to convert the original adjacency matrix into a 2 dimensional \n",
    "    adjacency matrix\n",
    "    \"\"\"\n",
    "    adj_2d = []\n",
    "    t_ind = 0\n",
    "    for t in data_adjacencyMatrix:\n",
    "        elem_ind = 0\n",
    "        for elem in t:\n",
    "            if elem == 1:\n",
    "                a= [t_ind, elem_ind]\n",
    "                adj_2d.append(a)\n",
    "            elem_ind += 1\n",
    "        t_ind = t_ind+1\n",
    "    return torch.tensor(adj_2d)"
   ]
  },
  {
   "attachments": {},
   "cell_type": "markdown",
   "metadata": {},
   "source": [
    "#### Import trace data"
   ]
  },
  {
   "cell_type": "code",
   "execution_count": 8,
   "metadata": {},
   "outputs": [
    {
     "data": {
      "text/plain": [
       "torch.Size([10, 3])"
      ]
     },
     "execution_count": 8,
     "metadata": {},
     "output_type": "execute_result"
    }
   ],
   "source": [
    "traces = pickle.load(open(\"/home/dhruvs/depaul_graphsage/traces.pkl\", \"rb\"))\n",
    "traces = traces.int()\n",
    "#traces = traces[:9900]\n",
    "traces.shape"
   ]
  },
  {
   "attachments": {},
   "cell_type": "markdown",
   "metadata": {},
   "source": [
    "#### Import nodes and labels"
   ]
  },
  {
   "cell_type": "code",
   "execution_count": 9,
   "metadata": {},
   "outputs": [],
   "source": [
    "data_nodeLabels = pickle.load(open(\"/home/dhruvs/depaul_graphsage/nodeLabels.pkl\", \"rb\"))\n",
    "data_adjacencyMatrix_old = pickle.load(open(\"/home/dhruvs/depaul_graphsage/adjacencyMatrix.pkl\", \"rb\"))\n",
    "\n",
    "data_adjacencyMatrix = data_adjacencyMatrix_old.type(torch.int64)\n",
    "\n",
    "\n",
    "num_nodes_graph = data_adjacencyMatrix.shape[0]"
   ]
  },
  {
   "cell_type": "code",
   "execution_count": 10,
   "metadata": {},
   "outputs": [
    {
     "data": {
      "text/plain": [
       "21"
      ]
     },
     "execution_count": 10,
     "metadata": {},
     "output_type": "execute_result"
    }
   ],
   "source": [
    "num_nodes_graph"
   ]
  },
  {
   "attachments": {},
   "cell_type": "markdown",
   "metadata": {},
   "source": [
    "#### Converting traces to OHE"
   ]
  },
  {
   "cell_type": "code",
   "execution_count": 11,
   "metadata": {},
   "outputs": [
    {
     "data": {
      "text/plain": [
       "torch.Size([10, 3, 21])"
      ]
     },
     "execution_count": 11,
     "metadata": {},
     "output_type": "execute_result"
    }
   ],
   "source": [
    "\"\"\"\n",
    "traces = [[0,1,4,15,38],\n",
    "[0,1,6,18,40],\n",
    "[0,1,4,15,38],\n",
    "[0,1,6,18,40]]\n",
    "\"\"\"\n",
    "all_traces_ohe = []\n",
    "for t in traces:\n",
    "    trace_ohe = []\n",
    "    for t_node in t:\n",
    "        node_pos = [0]*num_nodes_graph\n",
    "        #node_pos.append(t_node)# attaching the node label\n",
    "        node_pos[t_node] = 1\n",
    "        trace_ohe.append(node_pos)\n",
    "    all_traces_ohe.append(trace_ohe)\n",
    "\n",
    "all_data= torch.FloatTensor(all_traces_ohe)\n",
    "all_data.shape"
   ]
  },
  {
   "cell_type": "code",
   "execution_count": 12,
   "metadata": {},
   "outputs": [
    {
     "data": {
      "text/plain": [
       "torch.Size([510, 3, 21])"
      ]
     },
     "execution_count": 12,
     "metadata": {},
     "output_type": "execute_result"
    }
   ],
   "source": [
    "train_data = all_data\n",
    "for i in range (50):\n",
    "    train_data = torch.cat((train_data, all_data), 0)\n",
    "\n",
    "train_data.shape"
   ]
  },
  {
   "cell_type": "code",
   "execution_count": 13,
   "metadata": {},
   "outputs": [],
   "source": [
    "train_data=train_data[torch.randperm(train_data.size()[0])]"
   ]
  },
  {
   "cell_type": "code",
   "execution_count": 14,
   "metadata": {},
   "outputs": [],
   "source": [
    "# for now train data = all_data\n",
    "train_data = all_data"
   ]
  },
  {
   "cell_type": "code",
   "execution_count": 15,
   "metadata": {},
   "outputs": [
    {
     "data": {
      "text/plain": [
       "21"
      ]
     },
     "execution_count": 15,
     "metadata": {},
     "output_type": "execute_result"
    }
   ],
   "source": [
    "data_nodeLabels.shape[1] #vocab size"
   ]
  },
  {
   "attachments": {},
   "cell_type": "markdown",
   "metadata": {},
   "source": [
    "### Defining hyperparameters and initiating the model"
   ]
  },
  {
   "cell_type": "code",
   "execution_count": 16,
   "metadata": {},
   "outputs": [
    {
     "name": "stdout",
     "output_type": "stream",
     "text": [
      "Process complete\n"
     ]
    }
   ],
   "source": [
    "lr = 0.01\n",
    "epochs = 10000\n",
    "trace_length = traces.shape[1]\n",
    "\n",
    "\n",
    "input_dim_graphsage = data_nodeLabels.shape[1]# input dimension of graphsage = output dimension of mlp\n",
    "hidden_dim_graphsage = 10 #this is a hyperparameter\n",
    "output_dim_graphsage = 5 #this is a hyperparameter\n",
    "\n",
    "model_graphsage = GraphSAGE(in_dim=input_dim_graphsage, \n",
    "                 hidden_dim=hidden_dim_graphsage, \n",
    "                 out_dim= output_dim_graphsage)\n",
    "optimizer_graphsage = torch.optim.Adam(model_graphsage.parameters(), lr=lr)\n",
    "\n",
    "vocab_size = data_nodeLabels.shape[1]\n",
    "batch_size = 10\n",
    "output_size_lstm = output_dim_graphsage\n",
    "hidden_size_lstm = 10\n",
    "train_iter = DataLoader((train_data), batch_size = batch_size)\n",
    "\n",
    "num_layers_lstm = 2\n",
    "input_size_lstm = vocab_size\n",
    "model_lstm = BRNN(input_size_lstm, hidden_size_lstm, num_layers_lstm, output_size_lstm)\n",
    "#model_lstm = BRNN(batch_size, output_size_lstm, hidden_size_lstm, vocab_size)\n",
    "optimizer_lstm = torch.optim.Adam(model_lstm.parameters(), lr=lr)\n",
    "\n",
    "adj_2d = structure_adjacency_matrix()\n",
    "\n",
    "loss_fn = torch.nn.CrossEntropyLoss()\n",
    "\n",
    "LOSS_EPOCHS = []\n",
    "ACCURACY_EPOCHS = []\n",
    "for epoch in range(1, 1 + epochs):\n",
    "    accuracy_entire_epoch, loss_entire_epoch = train(\n",
    "        model_graphsage, optimizer_graphsage,\n",
    "        model_lstm, optimizer_lstm,\n",
    "        data_nodeLabels, adj_2d)\n",
    "    \n",
    "    LOSS_EPOCHS.append(loss_entire_epoch)\n",
    "    ACCURACY_EPOCHS.append(accuracy_entire_epoch)\n",
    "\n",
    "print(\"Process complete\")"
   ]
  },
  {
   "attachments": {},
   "cell_type": "markdown",
   "metadata": {},
   "source": [
    "### Plotting Training loss and accuracy"
   ]
  },
  {
   "cell_type": "code",
   "execution_count": 19,
   "metadata": {},
   "outputs": [
    {
     "name": "stderr",
     "output_type": "stream",
     "text": [
      "No handles with labels found to put in legend.\n"
     ]
    },
    {
     "data": {
      "image/png": "[encoded data removed]",
      "text/plain": [
       "<Figure size 640x480 with 1 Axes>"
      ]
     },
     "metadata": {},
     "output_type": "display_data"
    }
   ],
   "source": [
    "import matplotlib.pyplot as plt\n",
    "EPOCHS_LIST = []\n",
    "for i in range(10):\n",
    "    EPOCHS_LIST.append(i)\n",
    "LOSS = []\n",
    "loss_per_thousand = 0\n",
    "for i, loss in enumerate(LOSS_EPOCHS):\n",
    "    if i%1000 != 0:\n",
    "        loss_per_thousand+=loss\n",
    "    else:\n",
    "        LOSS.append(loss_per_thousand/1000)\n",
    "        loss_per_thousand = 0\n",
    "\n",
    "plt.plot(EPOCHS_LIST, LOSS, color='r')\n",
    "\n",
    "# Naming the x-axis, y-axis and the whole graph\n",
    "plt.xlabel(\"Epochs (in thousand)\")\n",
    "plt.ylabel(\"Loss\")\n",
    "plt.title(\"Relationship of loss with epochs\")\n",
    "  \n",
    "# Adding legend, which helps us recognize the curve according to it's color\n",
    "plt.legend()\n",
    "  \n",
    "# To load the display window\n",
    "plt.show()"
   ]
  },
  {
   "cell_type": "code",
   "execution_count": 20,
   "metadata": {},
   "outputs": [
    {
     "name": "stderr",
     "output_type": "stream",
     "text": [
      "No handles with labels found to put in legend.\n"
     ]
    },
    {
     "data": {
      "image/png": "[encoded data removed]",
      "text/plain": [
       "<Figure size 640x480 with 1 Axes>"
      ]
     },
     "metadata": {},
     "output_type": "display_data"
    }
   ],
   "source": [
    "ACCURACY = []\n",
    "accuracy_per_thousand = 0\n",
    "for i, accuracy in enumerate(ACCURACY_EPOCHS):\n",
    "    if i%1000 != 0:\n",
    "        accuracy_per_thousand+=accuracy\n",
    "    else:\n",
    "        ACCURACY.append(accuracy_per_thousand/1000)\n",
    "        accuracy_per_thousand = 0\n",
    "\n",
    "plt.plot(EPOCHS_LIST, ACCURACY, color='r')\n",
    "\n",
    "# Naming the x-axis, y-axis and the whole graph\n",
    "plt.xlabel(\"Epochs (in thousand)\")\n",
    "plt.ylabel(\"ACCURACY\")\n",
    "plt.title(\"Relationship of accuracy with epochs\")\n",
    "  \n",
    "# Adding legend, which helps us recognize the curve according to it's color\n",
    "plt.legend()\n",
    "  \n",
    "# To load the display window\n",
    "plt.show()"
   ]
  },
  {
   "attachments": {},
   "cell_type": "markdown",
   "metadata": {},
   "source": [
    "### Accuracy and Loss for each epoch"
   ]
  },
  {
   "cell_type": "code",
   "execution_count": 233,
   "metadata": {},
   "outputs": [
    {
     "name": "stderr",
     "output_type": "stream",
     "text": [
      "No handles with labels found to put in legend.\n"
     ]
    },
    {
     "data": {
      "image/png": "[encoded data removed]",
      "text/plain": [
       "<Figure size 640x480 with 1 Axes>"
      ]
     },
     "metadata": {},
     "output_type": "display_data"
    }
   ],
   "source": [
    "\n",
    "EPOCHS = []\n",
    "for i in range(1,10001):\n",
    "    EPOCHS.append(i)\n",
    "\n",
    "plt.plot(EPOCHS, LOSS_EPOCHS, color='r')\n",
    "#plt.plot(lam_list, LOSS_TEST, color='g', label='test loss')\n",
    "  \n",
    "# Naming the x-axis, y-axis and the whole graph\n",
    "plt.xlabel(\"Epochs\")\n",
    "plt.ylabel(\"Loss\")\n",
    "plt.title(\"Relationship of loss with epochs\")\n",
    "  \n",
    "# Adding legend, which helps us recognize the curve according to it's color\n",
    "plt.legend()\n",
    "  \n",
    "# To load the display window\n",
    "plt.show()"
   ]
  },
  {
   "cell_type": "code",
   "execution_count": 234,
   "metadata": {},
   "outputs": [
    {
     "name": "stderr",
     "output_type": "stream",
     "text": [
      "No handles with labels found to put in legend.\n"
     ]
    },
    {
     "data": {
      "image/png": "[encoded data removed]",
      "text/plain": [
       "<Figure size 640x480 with 1 Axes>"
      ]
     },
     "metadata": {},
     "output_type": "display_data"
    }
   ],
   "source": [
    "import matplotlib.pyplot as plt\n",
    "EPOCHS = []\n",
    "for i in range(1,10001):\n",
    "    EPOCHS.append(i)\n",
    "\n",
    "plt.plot(EPOCHS, ACCURACY_EPOCHS, color='r')\n",
    "#plt.plot(lam_list, LOSS_TEST, color='g', label='test loss')\n",
    "  \n",
    "# Naming the x-axis, y-axis and the whole graph\n",
    "plt.xlabel(\"Epochs\")\n",
    "plt.ylabel(\"accuracy\")\n",
    "plt.title(\"Relationship of accuracy with epochs\")\n",
    "  \n",
    "# Adding legend, which helps us recognize the curve according to it's color\n",
    "plt.legend()\n",
    "  \n",
    "# To load the display window\n",
    "plt.show()"
   ]
  },
  {
   "cell_type": "code",
   "execution_count": 231,
   "metadata": {},
   "outputs": [
    {
     "data": {
      "text/plain": [
       "'\\ndef test_model(data_to_test):\\n    model_mlp.eval()\\n    with torch.no_grad():\\n        out_mlp = model_mlp(data_nodeLabels)\\n\\n    data = Data(x=out_mlp, edge_index=adj_2d.t().contiguous())\\n\\n    model_graphsage.eval()\\n    with torch.no_grad():\\n        graphsage_output = model_graphsage(data)\\n\\n    model_lstm.eval()\\n    with torch.no_grad():\\n        lstm_test_result = model_lstm(data_to_test)\\n\\n    accuracy = evaluate_test(lstm_test_result, data_to_test)\\n    return accuracy\\n\\n\\ndef evaluate_test(result, truth):\\n    \\n    \\n    argmaxed_result = torch.argmax(result, dim=2)\\n    print(\"result\", argmaxed_result)\\n    argmaxed_truth = torch.argmax(truth, dim=2)\\n    print(\"truth\", argmaxed_truth)\\n    \\n    number_correctly_mapped = 0\\n    for i in range(len(argmaxed_result)):\\n        trace_res =  argmaxed_result[i]\\n        trace_orig = argmaxed_truth[i]\\n        if torch.equal(trace_res,trace_orig):\\n            number_correctly_mapped+= 1\\n    \\n    accuracy = number_correctly_mapped/len(argmaxed_result)\\n\\n    return accuracy\\n\\n# testing on train data again\\ntest_accuracy = test_model(train_data)\\n\\nprint(\"Test Accuaracy is \", test_accuaracy)\\n\\n'"
      ]
     },
     "execution_count": 231,
     "metadata": {},
     "output_type": "execute_result"
    }
   ],
   "source": [
    "\"\"\"\n",
    "def test_model(data_to_test):\n",
    "    model_mlp.eval()\n",
    "    with torch.no_grad():\n",
    "        out_mlp = model_mlp(data_nodeLabels)\n",
    "\n",
    "    data = Data(x=out_mlp, edge_index=adj_2d.t().contiguous())\n",
    "\n",
    "    model_graphsage.eval()\n",
    "    with torch.no_grad():\n",
    "        graphsage_output = model_graphsage(data)\n",
    "\n",
    "    model_lstm.eval()\n",
    "    with torch.no_grad():\n",
    "        lstm_test_result = model_lstm(data_to_test)\n",
    "\n",
    "    accuracy = evaluate_test(lstm_test_result, data_to_test)\n",
    "    return accuracy\n",
    "\n",
    "\n",
    "def evaluate_test(result, truth):\n",
    "    \n",
    "    \n",
    "    argmaxed_result = torch.argmax(result, dim=2)\n",
    "    print(\"result\", argmaxed_result)\n",
    "    argmaxed_truth = torch.argmax(truth, dim=2)\n",
    "    print(\"truth\", argmaxed_truth)\n",
    "    \n",
    "    number_correctly_mapped = 0\n",
    "    for i in range(len(argmaxed_result)):\n",
    "        trace_res =  argmaxed_result[i]\n",
    "        trace_orig = argmaxed_truth[i]\n",
    "        if torch.equal(trace_res,trace_orig):\n",
    "            number_correctly_mapped+= 1\n",
    "    \n",
    "    accuracy = number_correctly_mapped/len(argmaxed_result)\n",
    "\n",
    "    return accuracy\n",
    "\n",
    "# testing on train data again\n",
    "test_accuracy = test_model(train_data)\n",
    "\n",
    "print(\"Test Accuaracy is \", test_accuaracy)\n",
    "\n",
    "\"\"\""
   ]
  }
 ],
 "metadata": {
  "kernelspec": {
   "display_name": "Python 3",
   "language": "python",
   "name": "python3"
  },
  "language_info": {
   "codemirror_mode": {
    "name": "ipython",
    "version": 3
   },
   "file_extension": ".py",
   "mimetype": "text/x-python",
   "name": "python",
   "nbconvert_exporter": "python",
   "pygments_lexer": "ipython3",
   "version": "3.8.10"
  },
  "orig_nbformat": 4
 },
 "nbformat": 4,
 "nbformat_minor": 2
}
