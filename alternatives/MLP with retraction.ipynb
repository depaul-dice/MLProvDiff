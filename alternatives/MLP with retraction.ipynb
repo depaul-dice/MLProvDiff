{
 "cells": [
  {
   "attachments": {},
   "cell_type": "markdown",
   "metadata": {},
   "source": [
    "# get the most likely path (MLP)"
   ]
  },
  {
   "cell_type": "code",
   "execution_count": 1,
   "metadata": {},
   "outputs": [],
   "source": [
    "# contruct a trace of labels from the answer\n",
    "# we also have a transition possibility state\n",
    "\n",
    "# navigate through the graph\n",
    "# go for the label. if two nodes with same label? select the one with the highest probability\n",
    "# finish when the path contradicts the answer\n",
    "import pickle\n",
    "\n",
    "filename = 'cat'"
   ]
  },
  {
   "cell_type": "code",
   "execution_count": 2,
   "metadata": {},
   "outputs": [],
   "source": [
    "# open the journey data\n",
    "with open(f'../data/{filename}_journeys.pkl', 'rb') as f:\n",
    "    journeys = pickle.load(f)"
   ]
  },
  {
   "cell_type": "code",
   "execution_count": 3,
   "metadata": {},
   "outputs": [],
   "source": [
    "import random\n",
    "\n",
    "# create a transition dictionary\n",
    "transition_dict = {}\n",
    "\n",
    "# random sample 80% from journeys\n",
    "random.shuffle(journeys)\n",
    "journeys_train = journeys[:int(len(journeys)*0.8)]\n",
    "journeys_test = journeys[int(len(journeys)*0.8):]\n",
    "\n",
    "for journey in journeys_train:\n",
    "    for i in range(len(journey)-1):\n",
    "        if journey[i] not in transition_dict:\n",
    "            transition_dict[journey[i]] = {}\n",
    "        transition_dict[journey[i]][journey[i+1]] = transition_dict[journey[i]].get(journey[i+1], 0) + 1"
   ]
  },
  {
   "cell_type": "code",
   "execution_count": 4,
   "metadata": {},
   "outputs": [],
   "source": [
    "# create a trace of labels\n",
    "traces = []\n",
    "\n",
    "for journey in journeys:\n",
    "    traces.append(list(map(lambda x: x.split('__')[0], journey)))\n",
    "\n",
    "traces_train = traces[:int(len(traces)*0.8)]\n",
    "traces_test = traces[int(len(traces)*0.8):]"
   ]
  },
  {
   "cell_type": "code",
   "execution_count": 6,
   "metadata": {},
   "outputs": [],
   "source": [
    "# load a graph with pickle\n",
    "with open(f'../../Dominators/graphs/{filename}_combined_graph.pkl', 'rb') as f:\n",
    "    G = pickle.load(f)"
   ]
  },
  {
   "cell_type": "code",
   "execution_count": 7,
   "metadata": {},
   "outputs": [
    {
     "name": "stdout",
     "output_type": "stream",
     "text": [
      "all journeys start and end with the same node\n"
     ]
    }
   ],
   "source": [
    "end = set()\n",
    "start = set()\n",
    "\n",
    "for i in range(len(journeys)):\n",
    "    start.add(journeys[i][0])\n",
    "    end.add(journeys[i][-1])\n",
    "\n",
    "if len(start) == 1 and len(end) == 1:\n",
    "    print('all journeys start and end with the same node')\n",
    "    start = start.pop()\n",
    "    end = end.pop()\n",
    "else:\n",
    "    raise Exception('journeys do not start and end with the same node')"
   ]
  },
  {
   "cell_type": "code",
   "execution_count": 8,
   "metadata": {},
   "outputs": [],
   "source": [
    "import numpy as np\n",
    "from tqdm import tqdm\n",
    "\n",
    "# do bfs with backtracking\n",
    "def dfs(curr_length, past_nodes):\n",
    "    global G\n",
    "    global done, iter_count, answer\n",
    "\n",
    "    # if the current node is the end node with the correct length, finish\n",
    "    if done or (curr_length == len(traces_test[iter_count]) and past_nodes[-1] == end):\n",
    "        if not done:\n",
    "            done = True\n",
    "            answer = past_nodes\n",
    "        return\n",
    "    \n",
    "    # get the next node\n",
    "    next_label = traces_test[iter_count][curr_length]\n",
    "    candidate_nodes = []\n",
    "    for node in G[past_nodes[-1]]:\n",
    "        if node.split('__')[0] == next_label:\n",
    "            candidate_nodes.append(node)\n",
    "    try:\n",
    "        candidate_nodes.sort(key=lambda x: transition_dict.get(past_nodes[-1], dict()).get(x, 0), reverse=True)\n",
    "    except:\n",
    "        print(past_nodes[-1], candidate_nodes, transition_dict[past_nodes[-1]])\n",
    "\n",
    "\n",
    "    for node in candidate_nodes:\n",
    "        dfs(curr_length+1, past_nodes + [node])"
   ]
  },
  {
   "cell_type": "code",
   "execution_count": 9,
   "metadata": {},
   "outputs": [
    {
     "name": "stderr",
     "output_type": "stream",
     "text": [
      "100%|██████████| 200000/200000 [01:39<00:00, 2017.03it/s]\n"
     ]
    }
   ],
   "source": [
    "answers = []\n",
    "\n",
    "for i in tqdm(range(len(journeys_test))):\n",
    "    iter_count = i\n",
    "    answer = []\n",
    "    done = False\n",
    "    dfs(1, [start])\n",
    "    answers.append(answer)"
   ]
  },
  {
   "cell_type": "code",
   "execution_count": 85,
   "metadata": {},
   "outputs": [
    {
     "name": "stdout",
     "output_type": "stream",
     "text": [
      "first deviation at 60\n",
      "answer: 0xeff6b0___349\n",
      "journey: 0xeff6b0___348\n"
     ]
    }
   ],
   "source": [
    "for i in range(len(answers[1])):\n",
    "    # print the first deviation\n",
    "    if answers[1][i] != journeys_test[1][i]:\n",
    "        print(f'first deviation at {i}')\n",
    "        print(f'answer: {answers[1][i]}')\n",
    "        print(f'journey: {journeys_test[1][i]}')\n",
    "        break"
   ]
  },
  {
   "cell_type": "code",
   "execution_count": 10,
   "metadata": {},
   "outputs": [],
   "source": [
    "import numpy as np\n",
    "\n",
    "corrects = []\n",
    "for i in range(len(answers)):\n",
    "    for j in range(len(answers[i])):\n",
    "        # calculate the first wrong index\n",
    "        if answers[i][j] == journeys_test[i][j] and j == len(answers[i])-1:\n",
    "            corrects.append(1)\n",
    "        elif answers[i][j] != journeys_test[i][j]:\n",
    "            corrects.append(j / len(answers[i]))\n",
    "            break"
   ]
  },
  {
   "cell_type": "code",
   "execution_count": 11,
   "metadata": {},
   "outputs": [
    {
     "data": {
      "image/png": "[encoded data removed]",
      "text/plain": [
       "<Figure size 640x480 with 1 Axes>"
      ]
     },
     "metadata": {},
     "output_type": "display_data"
    },
    {
     "data": {
      "text/plain": [
       "0.8334805876420003"
      ]
     },
     "execution_count": 11,
     "metadata": {},
     "output_type": "execute_result"
    }
   ],
   "source": [
    "# plot the distribution of corrects\n",
    "import matplotlib.pyplot as plt\n",
    "\n",
    "plt.hist(corrects, bins=100)\n",
    "plt.show()\n",
    "np.mean(corrects)"
   ]
  }
 ],
 "metadata": {
  "kernelspec": {
   "display_name": "practicum",
   "language": "python",
   "name": "python3"
  },
  "language_info": {
   "codemirror_mode": {
    "name": "ipython",
    "version": 3
   },
   "file_extension": ".py",
   "mimetype": "text/x-python",
   "name": "python",
   "nbconvert_exporter": "python",
   "pygments_lexer": "ipython3",
   "version": "3.11.3"
  },
  "orig_nbformat": 4
 },
 "nbformat": 4,
 "nbformat_minor": 2
}
