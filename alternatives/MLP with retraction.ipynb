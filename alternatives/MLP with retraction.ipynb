{
 "cells": [
  {
   "attachments": {},
   "cell_type": "markdown",
   "metadata": {},
   "source": [
    "# get the most likely path (MLP)"
   ]
  },
  {
   "cell_type": "code",
   "execution_count": 7,
   "metadata": {},
   "outputs": [],
   "source": [
    "# contruct a trace of labels from the answer\n",
    "# we also have a transition possibility state\n",
    "\n",
    "# navigate through the graph\n",
    "# go for the label. if two nodes with same label? select the one with the highest probability\n",
    "# finish when the path contradicts the answer\n",
    "import pickle\n",
    "\n",
    "filename = 'cat'"
   ]
  },
  {
   "cell_type": "code",
   "execution_count": 9,
   "metadata": {},
   "outputs": [],
   "source": [
    "# open the journey data\n",
    "with open(f'../data/{filename}_journeys.pkl', 'rb') as f:\n",
    "    journeys = pickle.load(f)"
   ]
  },
  {
   "cell_type": "code",
   "execution_count": 10,
   "metadata": {},
   "outputs": [],
   "source": [
    "# create a transition dictionary\n",
    "transition_dict = {}\n",
    "\n",
    "for journey in journeys:\n",
    "    for i in range(len(journey)-1):\n",
    "        if journey[i] not in transition_dict:\n",
    "            transition_dict[journey[i]] = {}\n",
    "        transition_dict[journey[i]][journey[i+1]] = transition_dict[journey[i]].get(journey[i+1], 0) + 1"
   ]
  },
  {
   "cell_type": "code",
   "execution_count": 11,
   "metadata": {},
   "outputs": [],
   "source": [
    "# create a trace of labels\n",
    "traces = []\n",
    "\n",
    "for journey in journeys:\n",
    "    traces.append(list(map(lambda x: x.split('__')[0], journey)))"
   ]
  },
  {
   "cell_type": "code",
   "execution_count": 13,
   "metadata": {},
   "outputs": [],
   "source": [
    "# load a graph with pickle\n",
    "with open(f'../../Dominators/graphs/{filename}_combined_graph.pkl', 'rb') as f:\n",
    "    G = pickle.load(f)"
   ]
  },
  {
   "cell_type": "code",
   "execution_count": 20,
   "metadata": {},
   "outputs": [
    {
     "name": "stdout",
     "output_type": "stream",
     "text": [
      "all journeys start and end with the same node\n"
     ]
    }
   ],
   "source": [
    "end = set()\n",
    "start = set()\n",
    "\n",
    "for i in range(len(journeys)):\n",
    "    start.add(journeys[i][0])\n",
    "    end.add(journeys[i][-1])\n",
    "\n",
    "if len(start) == 1 and len(end) == 1:\n",
    "    print('all journeys start and end with the same node')\n",
    "    start = start.pop()\n",
    "    end = end.pop()\n",
    "else:\n",
    "    raise Exception('journeys do not start and end with the same node')"
   ]
  },
  {
   "cell_type": "code",
   "execution_count": 42,
   "metadata": {},
   "outputs": [
    {
     "data": {
      "text/plain": [
       "['0xdf2060___1', '0x106df90___1']"
      ]
     },
     "execution_count": 42,
     "metadata": {},
     "output_type": "execute_result"
    }
   ],
   "source": [
    "list(G[start])"
   ]
  },
  {
   "cell_type": "code",
   "execution_count": 50,
   "metadata": {},
   "outputs": [
    {
     "data": {
      "text/plain": [
       "['0xdf2060', '0x106df90']"
      ]
     },
     "execution_count": 50,
     "metadata": {},
     "output_type": "execute_result"
    }
   ],
   "source": [
    "# get the adjacent nodes\n",
    "# map transform\n",
    "list(map(lambda x: x.split('__')[0], list(G[start])))"
   ]
  },
  {
   "cell_type": "code",
   "execution_count": 12,
   "metadata": {},
   "outputs": [
    {
     "name": "stdout",
     "output_type": "stream",
     "text": [
      "Unexpected exception formatting exception. Falling back to standard exception\n"
     ]
    },
    {
     "name": "stderr",
     "output_type": "stream",
     "text": [
      "Traceback (most recent call last):\n",
      "  File \"c:\\Users\\mnihy\\anaconda3\\envs\\practicum\\Lib\\site-packages\\IPython\\core\\interactiveshell.py\", line 3505, in run_code\n",
      "    exec(code_obj, self.user_global_ns, self.user_ns)\n",
      "  File \"C:\\Users\\mnihy\\AppData\\Local\\Temp\\ipykernel_22028\\688587471.py\", line -1, in <module>\n",
      "KeyboardInterrupt\n",
      "\n",
      "During handling of the above exception, another exception occurred:\n",
      "\n",
      "Traceback (most recent call last):\n",
      "  File \"c:\\Users\\mnihy\\anaconda3\\envs\\practicum\\Lib\\site-packages\\IPython\\core\\interactiveshell.py\", line 2102, in showtraceback\n",
      "    stb = self.InteractiveTB.structured_traceback(\n",
      "          ^^^^^^^^^^^^^^^^^^^^^^^^^^^^^^^^^^^^^^^^\n",
      "  File \"c:\\Users\\mnihy\\anaconda3\\envs\\practicum\\Lib\\site-packages\\IPython\\core\\ultratb.py\", line 1310, in structured_traceback\n",
      "    return FormattedTB.structured_traceback(\n",
      "           ^^^^^^^^^^^^^^^^^^^^^^^^^^^^^^^^^\n",
      "  File \"c:\\Users\\mnihy\\anaconda3\\envs\\practicum\\Lib\\site-packages\\IPython\\core\\ultratb.py\", line 1199, in structured_traceback\n",
      "    return VerboseTB.structured_traceback(\n",
      "           ^^^^^^^^^^^^^^^^^^^^^^^^^^^^^^^\n",
      "  File \"c:\\Users\\mnihy\\anaconda3\\envs\\practicum\\Lib\\site-packages\\IPython\\core\\ultratb.py\", line 1052, in structured_traceback\n",
      "    formatted_exception = self.format_exception_as_a_whole(etype, evalue, etb, number_of_lines_of_context,\n",
      "                          ^^^^^^^^^^^^^^^^^^^^^^^^^^^^^^^^^^^^^^^^^^^^^^^^^^^^^^^^^^^^^^^^^^^^^^^^^^^^^^^^\n",
      "  File \"c:\\Users\\mnihy\\anaconda3\\envs\\practicum\\Lib\\site-packages\\IPython\\core\\ultratb.py\", line 978, in format_exception_as_a_whole\n",
      "    frames.append(self.format_record(record))\n",
      "                  ^^^^^^^^^^^^^^^^^^^^^^^^^^\n",
      "  File \"c:\\Users\\mnihy\\anaconda3\\envs\\practicum\\Lib\\site-packages\\IPython\\core\\ultratb.py\", line 878, in format_record\n",
      "    frame_info.lines, Colors, self.has_colors, lvals\n",
      "    ^^^^^^^^^^^^^^^^\n",
      "  File \"c:\\Users\\mnihy\\anaconda3\\envs\\practicum\\Lib\\site-packages\\IPython\\core\\ultratb.py\", line 712, in lines\n",
      "    return self._sd.lines\n",
      "           ^^^^^^^^^^^^^^\n",
      "  File \"c:\\Users\\mnihy\\anaconda3\\envs\\practicum\\Lib\\site-packages\\stack_data\\utils.py\", line 144, in cached_property_wrapper\n",
      "    value = obj.__dict__[self.func.__name__] = self.func(obj)\n",
      "                                               ^^^^^^^^^^^^^^\n",
      "  File \"c:\\Users\\mnihy\\anaconda3\\envs\\practicum\\Lib\\site-packages\\stack_data\\core.py\", line 734, in lines\n",
      "    pieces = self.included_pieces\n",
      "             ^^^^^^^^^^^^^^^^^^^^\n",
      "  File \"c:\\Users\\mnihy\\anaconda3\\envs\\practicum\\Lib\\site-packages\\stack_data\\utils.py\", line 144, in cached_property_wrapper\n",
      "    value = obj.__dict__[self.func.__name__] = self.func(obj)\n",
      "                                               ^^^^^^^^^^^^^^\n",
      "  File \"c:\\Users\\mnihy\\anaconda3\\envs\\practicum\\Lib\\site-packages\\stack_data\\core.py\", line 681, in included_pieces\n",
      "    pos = scope_pieces.index(self.executing_piece)\n",
      "                             ^^^^^^^^^^^^^^^^^^^^\n",
      "  File \"c:\\Users\\mnihy\\anaconda3\\envs\\practicum\\Lib\\site-packages\\stack_data\\utils.py\", line 144, in cached_property_wrapper\n",
      "    value = obj.__dict__[self.func.__name__] = self.func(obj)\n",
      "                                               ^^^^^^^^^^^^^^\n",
      "  File \"c:\\Users\\mnihy\\anaconda3\\envs\\practicum\\Lib\\site-packages\\stack_data\\core.py\", line 660, in executing_piece\n",
      "    return only(\n",
      "           ^^^^^\n",
      "  File \"c:\\Users\\mnihy\\anaconda3\\envs\\practicum\\Lib\\site-packages\\executing\\executing.py\", line 190, in only\n",
      "    raise NotOneValueFound('Expected one value, found 0')\n",
      "executing.executing.NotOneValueFound: Expected one value, found 0\n"
     ]
    }
   ],
   "source": [
    "import numpy as np\n",
    "from tqdm import tqdm\n",
    "\n",
    "done = False\n",
    "\n",
    "# do bfs with backtracking\n",
    "def dfs(curr_length, past_nodes):\n",
    "    global iter_count\n",
    "    global G\n",
    "    global done\n",
    "\n",
    "    # if the current node is the end node with the correct length, finish\n",
    "    if done or (curr_length == len(traces[iter_count]) and past_nodes[-1] == end):\n",
    "        done = True\n",
    "        return past_nodes\n",
    "    \n",
    "    # get the next node\n",
    "    next_label = traces[iter_count][curr_length]\n",
    "    candidate_nodes = []\n",
    "    for node in G[curr_node]:\n",
    "        if node.split('__')[0] == next_label:\n",
    "            candidate_nodes.append(node)\n",
    "        \n",
    "    candidate_nodes.sort(key=lambda x: transition_dict[curr_node][x], reverse=True)\n",
    "\n",
    "    for node in candidate_nodes:\n",
    "        dfs(curr_length+1, node, past_nodes + [node])"
   ]
  },
  {
   "cell_type": "code",
   "execution_count": 64,
   "metadata": {},
   "outputs": [
    {
     "data": {
      "text/plain": [
       "0.8335454334787791"
      ]
     },
     "execution_count": 64,
     "metadata": {},
     "output_type": "execute_result"
    }
   ],
   "source": [
    "stats.mean()"
   ]
  },
  {
   "cell_type": "code",
   "execution_count": 65,
   "metadata": {},
   "outputs": [
    {
     "data": {
      "image/png": "[encoded data removed]",
      "text/plain": [
       "<Figure size 640x480 with 1 Axes>"
      ]
     },
     "metadata": {},
     "output_type": "display_data"
    }
   ],
   "source": [
    "#stats to histogram\n",
    "\n",
    "import matplotlib.pyplot as plt\n",
    "\n",
    "plt.hist(stats, bins=100)\n",
    "plt.show()"
   ]
  }
 ],
 "metadata": {
  "kernelspec": {
   "display_name": "practicum",
   "language": "python",
   "name": "python3"
  },
  "language_info": {
   "codemirror_mode": {
    "name": "ipython",
    "version": 3
   },
   "file_extension": ".py",
   "mimetype": "text/x-python",
   "name": "python",
   "nbconvert_exporter": "python",
   "pygments_lexer": "ipython3",
   "version": "3.11.3"
  },
  "orig_nbformat": 4
 },
 "nbformat": 4,
 "nbformat_minor": 2
}
