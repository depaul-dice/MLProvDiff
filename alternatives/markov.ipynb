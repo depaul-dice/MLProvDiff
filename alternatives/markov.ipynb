{
 "cells": [
  {
   "cell_type": "code",
   "execution_count": 1,
   "metadata": {},
   "outputs": [],
   "source": [
    "# with the previous n labels\n",
    "# produce the next node\n",
    "# if the prediction is not available, then use the next likely node, and so on\n",
    "\n",
    "testRatio = 0.2"
   ]
  },
  {
   "cell_type": "code",
   "execution_count": 6,
   "metadata": {},
   "outputs": [
    {
     "name": "stderr",
     "output_type": "stream",
     "text": [
      "100%|██████████| 1000000/1000000 [07:12<00:00, 2314.35it/s]\n"
     ]
    }
   ],
   "source": [
    "import pickle\n",
    "from tqdm import tqdm\n",
    "\n",
    "filename = \"cat\"\n",
    "\n",
    "# open file ../data/{filename}_journeys.pkl\n",
    "with open(f'../data/{filename}_journeys.pkl', 'rb') as f:\n",
    "    journeys = pickle.load(f)\n",
    "\n",
    "# ngram variables\n",
    "n = 15\n",
    "ngram = {}\n",
    "\n",
    "# create ngram. ngram is a dictionary of dictionaries\n",
    "# key is tuple of n labels\n",
    "# value is a dictionary of next labels and their counts\n",
    "for journey in tqdm(journeys):\n",
    "    for i in range(len(journey) - n):\n",
    "        # each label is the first element split by __\n",
    "        key = tuple(map(lambda x: x.split('__')[0], journey[i:i+n]))\n",
    "        if key not in ngram:\n",
    "            ngram[key] = {}\n",
    "        if journey[i+n] not in ngram[key]:\n",
    "            ngram[key][journey[i+n]] = 0\n",
    "        ngram[key][journey[i+n]] += 1"
   ]
  },
  {
   "cell_type": "code",
   "execution_count": 7,
   "metadata": {},
   "outputs": [
    {
     "name": "stderr",
     "output_type": "stream",
     "text": [
      "100%|██████████| 200000/200000 [00:38<00:00, 5201.40it/s]\n"
     ]
    }
   ],
   "source": [
    "# test the accuracy of the model\n",
    "# for each journey, predict the next label\n",
    "# if the prediction is not available, then use the next likely node, and so on\n",
    "\n",
    "testSize = int(len(journeys) * testRatio)\n",
    "\n",
    "# random sample journeys\n",
    "import random\n",
    "random.seed(0)\n",
    "test_journeys = random.sample(journeys, testSize)\n",
    "\n",
    "# accuracy\n",
    "correct = testSize\n",
    "\n",
    "# lengths\n",
    "lengths = []\n",
    "ans_lengths = []\n",
    "\n",
    "for journey in tqdm(test_journeys):\n",
    "    for i in range(len(journey) - n):\n",
    "        # each label is the first element split by __\n",
    "        key = tuple(map(lambda x: x.split('__')[0], journey[i:i+n]))\n",
    "        if key in ngram:\n",
    "            # get the next label with the highest count\n",
    "            next_label = max(ngram[key], key=ngram[key].get)\n",
    "            if next_label != journey[i+n]:\n",
    "                correct -= 1\n",
    "                lengths.append(i)\n",
    "                ans_lengths.append(len(journey)-n)\n",
    "                break"
   ]
  },
  {
   "cell_type": "code",
   "execution_count": 8,
   "metadata": {},
   "outputs": [
    {
     "name": "stdout",
     "output_type": "stream",
     "text": [
      "Accuracy: 0.0\n"
     ]
    },
    {
     "data": {
      "image/png": "[encoded data removed]",
      "text/plain": [
       "<Figure size 640x480 with 1 Axes>"
      ]
     },
     "metadata": {},
     "output_type": "display_data"
    }
   ],
   "source": [
    "print(f\"Accuracy: {correct / testSize}\")\n",
    "\n",
    "# plot the lengths / ans_lengths distribution\n",
    "\n",
    "import matplotlib.pyplot as plt\n",
    "import numpy as np\n",
    "\n",
    "np_lengths = np.array(lengths)\n",
    "np_ans_lengths = np.array(ans_lengths)\n",
    "\n",
    "plt.hist(np_lengths / np_ans_lengths, bins=np.arange(0, 1, 0.01), alpha=0.5, label='correct')\n",
    "\n",
    "plt.legend(loc='upper right')\n",
    "plt.title(f'Accuracy Distribution for {filename}')\n",
    "plt.show()"
   ]
  },
  {
   "cell_type": "code",
   "execution_count": 9,
   "metadata": {},
   "outputs": [
    {
     "data": {
      "text/plain": [
       "0.49536109831245645"
      ]
     },
     "execution_count": 9,
     "metadata": {},
     "output_type": "execute_result"
    }
   ],
   "source": [
    "np.average(np_lengths / np_ans_lengths)"
   ]
  }
 ],
 "metadata": {
  "kernelspec": {
   "display_name": "practicum",
   "language": "python",
   "name": "python3"
  },
  "language_info": {
   "codemirror_mode": {
    "name": "ipython",
    "version": 3
   },
   "file_extension": ".py",
   "mimetype": "text/x-python",
   "name": "python",
   "nbconvert_exporter": "python",
   "pygments_lexer": "ipython3",
   "version": "3.11.3"
  },
  "orig_nbformat": 4
 },
 "nbformat": 4,
 "nbformat_minor": 2
}
