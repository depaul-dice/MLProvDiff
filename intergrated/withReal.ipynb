{
 "cells": [
  {
   "cell_type": "code",
   "execution_count": 1,
   "metadata": {},
   "outputs": [],
   "source": [
    "import pickle\n",
    "import random\n",
    "\n",
    "# Parameters\n",
    "filename = \"cat\"\n",
    "useRatio = 0.0001\n",
    "HIDDEN_DIM = 256\n",
    "\n",
    "# open file ../data/{filename}_journeys.pkl\n",
    "with open(f'../data/{filename}_journeys.pkl', 'rb') as f:\n",
    "    # sample only the journeys\n",
    "    journeys = pickle.load(f)\n",
    "    journeys = random.sample(journeys, int(len(journeys) * useRatio))\n",
    "\n",
    "# open the graph pkl\n",
    "with open(f'../../Dominators/graphs/{filename}_combined_graph.pkl', 'rb') as f:\n",
    "    graph = pickle.load(f)"
   ]
  },
  {
   "cell_type": "code",
   "execution_count": 2,
   "metadata": {},
   "outputs": [],
   "source": [
    "# check the node types\n",
    "types = set()\n",
    "for i in range(len(journeys[0])):\n",
    "    types.add(graph.nodes[journeys[0][i]]['node_type'])"
   ]
  },
  {
   "attachments": {},
   "cell_type": "markdown",
   "metadata": {},
   "source": [
    "# experiment with single digit features\n"
   ]
  },
  {
   "attachments": {},
   "cell_type": "markdown",
   "metadata": {},
   "source": [
    "### for graphsage"
   ]
  },
  {
   "cell_type": "code",
   "execution_count": 3,
   "metadata": {},
   "outputs": [],
   "source": [
    "# create type and label id mapping\n",
    "type2id = {}\n",
    "for t in types:\n",
    "    type2id[t] = len(type2id)\n",
    "\n",
    "label2id = {}\n",
    "for i, node in enumerate(graph):\n",
    "    if graph.nodes[node]['label'] not in label2id:\n",
    "        label2id[graph.nodes[node]['label']] = len(label2id)\n",
    "\n",
    "# create node idx to id mapping\n",
    "node2id = {}\n",
    "for i, node in enumerate(graph):\n",
    "    node2id[node] = i + 1\n",
    "    \n",
    "\n",
    "# create edge list\n",
    "edge_list_dep = []\n",
    "edge_list_rev = []\n",
    "\n",
    "for node in graph.nodes:\n",
    "    for neighbor in graph.neighbors(node):\n",
    "        edge_list_dep.append(node2id[node] - 1)\n",
    "        edge_list_rev.append(node2id[neighbor] - 1)\n",
    "        \n",
    "# create node feature list\n",
    "featureMatrix = []\n",
    "\n",
    "for node in graph.nodes:\n",
    "    featureMatrix.append([type2id[graph.nodes[node]['node_type']], label2id[graph.nodes[node]['label']]])\n",
    "\n",
    "num_features = len(featureMatrix[0])"
   ]
  },
  {
   "attachments": {},
   "cell_type": "markdown",
   "metadata": {},
   "source": [
    "### for lstm"
   ]
  },
  {
   "cell_type": "code",
   "execution_count": 4,
   "metadata": {},
   "outputs": [],
   "source": [
    "import torch\n",
    "\n",
    "# jounrey to node id\n",
    "journeys_id = []\n",
    "\n",
    "for journey in journeys:\n",
    "    journey_id = []\n",
    "    for node in journey:\n",
    "        journey_id.append(node2id[node])\n",
    "    journeys_id.append(torch.tensor(journey_id, dtype=torch.long))"
   ]
  },
  {
   "cell_type": "code",
   "execution_count": 5,
   "metadata": {},
   "outputs": [],
   "source": [
    "# trace in journey to fm\n",
    "journeys_fm = []\n",
    "\n",
    "for journey in journeys_id:\n",
    "    journey_fm = []\n",
    "    for node in journey:\n",
    "        journey_fm.append(featureMatrix[node])\n",
    "    journeys_fm.append(torch.tensor(journey_fm, dtype=torch.float))"
   ]
  },
  {
   "cell_type": "code",
   "execution_count": 6,
   "metadata": {},
   "outputs": [
    {
     "data": {
      "text/plain": [
       "(torch.Size([100, 80, 2]), torch.Size([100, 80]))"
      ]
     },
     "execution_count": 6,
     "metadata": {},
     "output_type": "execute_result"
    }
   ],
   "source": [
    "# padd for the same length\n",
    "from torch.nn.utils.rnn import pad_sequence\n",
    "\n",
    "# Pad the sequences so they are the same length\n",
    "traces_x = pad_sequence(journeys_fm, batch_first=True)\n",
    "traces_y = pad_sequence(journeys_id, batch_first=True)\n",
    "\n",
    "traces_x.size(), traces_y.size()"
   ]
  },
  {
   "cell_type": "code",
   "execution_count": 7,
   "metadata": {},
   "outputs": [],
   "source": [
    "# to tensor\n",
    "featureMatrix = torch.tensor(featureMatrix, dtype=torch.float)\n",
    "edge_list = torch.tensor([edge_list_dep, edge_list_rev], dtype=torch.long)"
   ]
  },
  {
   "attachments": {},
   "cell_type": "markdown",
   "metadata": {},
   "source": [
    "# create dataset"
   ]
  },
  {
   "cell_type": "code",
   "execution_count": 8,
   "metadata": {},
   "outputs": [],
   "source": [
    "# to dataset\n",
    "from torch.utils.data import Dataset, DataLoader\n",
    "\n",
    "class TraceDataset(Dataset):\n",
    "    def __init__(self, traces_x, traces_y):\n",
    "        self.traces_x = traces_x\n",
    "        self.traces_y = traces_y\n",
    "    \n",
    "    def __len__(self):\n",
    "        return len(self.traces_x)\n",
    "    \n",
    "    def __getitem__(self, idx):\n",
    "        return self.traces_x[idx], self.traces_y[idx]\n",
    "\n",
    "# Creating Dataset\n",
    "trace_dataset = TraceDataset(traces_x, traces_y)\n",
    "\n",
    "# Creating DataLoader with batch size 32, adjust as necessary\n",
    "trace_loader = DataLoader(trace_dataset, batch_size=8, shuffle=True)\n"
   ]
  },
  {
   "attachments": {},
   "cell_type": "markdown",
   "metadata": {},
   "source": [
    "# experiment"
   ]
  },
  {
   "cell_type": "code",
   "execution_count": 9,
   "metadata": {},
   "outputs": [
    {
     "name": "stderr",
     "output_type": "stream",
     "text": [
      "100%|██████████| 4/4 [02:18<00:00, 34.72s/it]\n"
     ]
    },
    {
     "ename": "RuntimeError",
     "evalue": "The size of tensor a (71698) must match the size of tensor b (80) at non-singleton dimension 1",
     "output_type": "error",
     "traceback": [
      "\u001b[1;31m---------------------------------------------------------------------------\u001b[0m",
      "\u001b[1;31mRuntimeError\u001b[0m                              Traceback (most recent call last)",
      "Cell \u001b[1;32mIn[9], line 79\u001b[0m\n\u001b[0;32m     77\u001b[0m \u001b[39mfor\u001b[39;00m batch \u001b[39min\u001b[39;00m tqdm(trace_loader):\n\u001b[0;32m     78\u001b[0m     loss \u001b[39m=\u001b[39m train(batch, featureMatrix, edge_list)\n\u001b[1;32m---> 79\u001b[0m acc \u001b[39m=\u001b[39m test(trace_loader, featureMatrix, edge_list)\n\u001b[0;32m     80\u001b[0m \u001b[39mprint\u001b[39m(\u001b[39mf\u001b[39m\u001b[39m'\u001b[39m\u001b[39mEpoch: \u001b[39m\u001b[39m{\u001b[39;00mepoch\u001b[39m}\u001b[39;00m\u001b[39m, Loss: \u001b[39m\u001b[39m{\u001b[39;00mloss\u001b[39m:\u001b[39;00m\u001b[39m.4f\u001b[39m\u001b[39m}\u001b[39;00m\u001b[39m, Test Acc: \u001b[39m\u001b[39m{\u001b[39;00macc\u001b[39m:\u001b[39;00m\u001b[39m.4f\u001b[39m\u001b[39m}\u001b[39;00m\u001b[39m'\u001b[39m)\n",
      "Cell \u001b[1;32mIn[9], line 70\u001b[0m, in \u001b[0;36mtest\u001b[1;34m(data_loader, featureMatrix, edge_list)\u001b[0m\n\u001b[0;32m     68\u001b[0m         out \u001b[39m=\u001b[39m combined\u001b[39m.\u001b[39mtranspose(\u001b[39m0\u001b[39m, \u001b[39m1\u001b[39m)\n\u001b[0;32m     69\u001b[0m         pred \u001b[39m=\u001b[39m out\u001b[39m.\u001b[39margmax(dim\u001b[39m=\u001b[39m\u001b[39m1\u001b[39m)\n\u001b[1;32m---> 70\u001b[0m         num_correct \u001b[39m+\u001b[39m\u001b[39m=\u001b[39m pred\u001b[39m.\u001b[39;49meq(trace_y)\u001b[39m.\u001b[39msum()\u001b[39m.\u001b[39mitem()\n\u001b[0;32m     71\u001b[0m         num_questions \u001b[39m+\u001b[39m\u001b[39m=\u001b[39m \u001b[39mlen\u001b[39m(trace_y)\n\u001b[0;32m     73\u001b[0m \u001b[39mreturn\u001b[39;00m num_correct \u001b[39m/\u001b[39m num_questions\n",
      "\u001b[1;31mRuntimeError\u001b[0m: The size of tensor a (71698) must match the size of tensor b (80) at non-singleton dimension 1"
     ]
    }
   ],
   "source": [
    "import torch.nn as nn\n",
    "import torch.nn.functional as F\n",
    "from torch_geometric.nn import SAGEConv\n",
    "from tqdm import tqdm\n",
    "\n",
    "class BiLSTM(torch.nn.Module):\n",
    "    def __init__(self, in_channels, hidden_channels, num_layers=1):\n",
    "        super(BiLSTM, self).__init__()\n",
    "        self.lstm = nn.LSTM(input_size=in_channels,\n",
    "                            hidden_size=hidden_channels,\n",
    "                            num_layers=num_layers,\n",
    "                            bidirectional=True,\n",
    "                            batch_first=True)\n",
    "        \n",
    "    def forward(self, x):\n",
    "        output, _ = self.lstm(x)\n",
    "        return output\n",
    "    \n",
    "class GraphSAGE(torch.nn.Module):\n",
    "    def __init__(self, in_channels, hidden_channels):\n",
    "        super(GraphSAGE, self).__init__()\n",
    "        self.conv1 = SAGEConv(in_channels, hidden_channels)\n",
    "\n",
    "    def forward(self, x, edge_index):\n",
    "        x = self.conv1(x, edge_index)\n",
    "        #x = F.dropout(x, p=0.9, training=self.training)\n",
    "        return x\n",
    "\n",
    "class CombinedModel(torch.nn.Module):\n",
    "    def __init__(self, in_channels, hidden_channels):\n",
    "        super(CombinedModel, self).__init__()\n",
    "        self.graphsage = GraphSAGE(in_channels, hidden_channels)\n",
    "        self.bilstm = BiLSTM(in_channels, hidden_channels//2)\n",
    "\n",
    "    def forward(self, trace, x, edge_index):\n",
    "        embeddings = self.graphsage(x, edge_index)\n",
    "        out_bilstm = self.bilstm(trace)\n",
    "        embeddings_expanded = embeddings.unsqueeze(0).expand(out_bilstm.size(0), -1, -1)\n",
    "        combined = torch.bmm(out_bilstm, embeddings_expanded.transpose(1, 2))\n",
    "        return combined\n",
    "\n",
    "device = torch.device('cuda' if torch.cuda.is_available() else 'cpu')\n",
    "model = CombinedModel(num_features, HIDDEN_DIM).to(device)\n",
    "optimizer = torch.optim.Adam(model.parameters(), lr=0.01, weight_decay=5e-4)\n",
    "\n",
    "def train(batch, featureMatrix, edge_list):\n",
    "    model.train()\n",
    "    optimizer.zero_grad()\n",
    "    trace_x, trace_y = batch\n",
    "    combined = model(trace_x, featureMatrix, edge_list)\n",
    "    combined = combined.view(-1, combined.size(-1))\n",
    "    trace_y = trace_y.view(-1)\n",
    "    loss = F.cross_entropy(combined, trace_y)\n",
    "    loss.backward()\n",
    "    optimizer.step()\n",
    "    return loss.item()\n",
    "\n",
    "# Adjust the test function to handle batches\n",
    "def test(data_loader, featureMatrix, edge_list):\n",
    "    model.eval()\n",
    "    num_correct = 0\n",
    "    num_questions = 0\n",
    "\n",
    "    with torch.no_grad():\n",
    "        for batch in data_loader:\n",
    "            trace_x, trace_y = batch\n",
    "            combined = model(trace_x, featureMatrix, edge_list)\n",
    "            print(combined.shape, trace_y.shape)\n",
    "            out = combined.transpose(0, 1)\n",
    "            pred = out.argmax(dim=1)\n",
    "            num_correct += pred.eq(trace_y).sum().item()\n",
    "            num_questions += len(trace_y)\n",
    "    \n",
    "    return num_correct / num_questions\n",
    "\n",
    "# Adjust the main training loop\n",
    "for epoch in range(1, 201):\n",
    "    for batch in tqdm(trace_loader):\n",
    "        loss = train(batch, featureMatrix, edge_list)\n",
    "    acc = test(trace_loader, featureMatrix, edge_list)\n",
    "    print(f'Epoch: {epoch}, Loss: {loss:.4f}, Test Acc: {acc:.4f}')\n"
   ]
  }
 ],
 "metadata": {
  "kernelspec": {
   "display_name": "practicum",
   "language": "python",
   "name": "python3"
  },
  "language_info": {
   "codemirror_mode": {
    "name": "ipython",
    "version": 3
   },
   "file_extension": ".py",
   "mimetype": "text/x-python",
   "name": "python",
   "nbconvert_exporter": "python",
   "pygments_lexer": "ipython3",
   "version": "3.11.3"
  },
  "orig_nbformat": 4
 },
 "nbformat": 4,
 "nbformat_minor": 2
}
