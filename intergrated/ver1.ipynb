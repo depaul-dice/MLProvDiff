{
 "cells": [
  {
   "cell_type": "code",
   "execution_count": 2,
   "metadata": {},
   "outputs": [],
   "source": [
    "import numpy as np\n",
    "import torch\n",
    "import pickle\n",
    "from torch_geometric.data import Data"
   ]
  },
  {
   "cell_type": "code",
   "execution_count": 3,
   "metadata": {},
   "outputs": [],
   "source": [
    "# Parameters\n",
    "HIDDEN_DIM = 256"
   ]
  },
  {
   "cell_type": "code",
   "execution_count": 4,
   "metadata": {},
   "outputs": [],
   "source": [
    "traces = pickle.load(open(\"../generateData/traces.pkl\", \"rb\"))\n",
    "featureMatrix = pickle.load(open(\"../generateData/nodeLabels.pkl\", \"rb\"))"
   ]
  },
  {
   "cell_type": "code",
   "execution_count": 5,
   "metadata": {},
   "outputs": [],
   "source": [
    "# traces is a lists of traces with node labels (number of traces, number of nodes)\n",
    "# turn this into (number of traces, number of nodes, number of features)\n",
    "\n",
    "# number of nodes\n",
    "labelNum = len(featureMatrix[0])\n",
    "traceNum = len(traces)\n",
    "\n",
    "# turn each element of a row in traces into one hot encoded vector\n",
    "def one_hot_encode(x):\n",
    "    vec = np.zeros(labelNum)\n",
    "    vec[x % labelNum] = 1\n",
    "    return vec\n",
    "\n",
    "traces_x = np.array([[one_hot_encode(x) for x in row] for row in traces])\n",
    "\n",
    "traces_x = torch.tensor(traces_x, dtype=torch.float)\n",
    "traces_y = traces"
   ]
  },
  {
   "cell_type": "code",
   "execution_count": 6,
   "metadata": {},
   "outputs": [
    {
     "data": {
      "text/plain": [
       "(torch.Size([64, 7, 8]), torch.Size([64, 7]))"
      ]
     },
     "execution_count": 6,
     "metadata": {},
     "output_type": "execute_result"
    }
   ],
   "source": [
    "traces_x.size(), traces_y.size()"
   ]
  },
  {
   "cell_type": "code",
   "execution_count": 7,
   "metadata": {},
   "outputs": [],
   "source": [
    "# Data(x=[2708, 1433], edge_index=[2, 10556], y=[2708], train_mask=[2708], val_mask=[2708], test_mask=[2708])\n",
    "featureMatrix = pickle.load(open(\"../generateData/nodeLabels.pkl\", \"rb\"))\n",
    "adjacencyList = pickle.load(open(\"../generateData/adjacencyList.pkl\", \"rb\"))\n",
    "\n",
    "# give the labels to the nodes\n",
    "y = [] \n",
    "for i in range(len(featureMatrix)): y.append(i)\n",
    "y = torch.tensor(y, dtype=torch.long)\n",
    "\n",
    "# randomly select 20 percent of the indices to be test indices\n",
    "test_mask = np.random.choice(len(traces_x), int(len(traces_x) * 0.2), replace=False)\n",
    "test_mask = torch.tensor(test_mask, dtype=torch.long)\n",
    "\n",
    "data = Data(x=featureMatrix, edge_index=adjacencyList, y=y, test_mask=test_mask)\n",
    "\n",
    "# num features & num classes\n",
    "num_features = len(featureMatrix[0])\n",
    "num_classes = len(featureMatrix[0])"
   ]
  },
  {
   "cell_type": "code",
   "execution_count": 1,
   "metadata": {},
   "outputs": [
    {
     "ename": "NameError",
     "evalue": "name 'torch' is not defined",
     "output_type": "error",
     "traceback": [
      "\u001b[1;31m---------------------------------------------------------------------------\u001b[0m",
      "\u001b[1;31mNameError\u001b[0m                                 Traceback (most recent call last)",
      "Cell \u001b[1;32mIn[1], line 6\u001b[0m\n\u001b[0;32m      3\u001b[0m \u001b[39mfrom\u001b[39;00m \u001b[39mtorch_geometric\u001b[39;00m\u001b[39m.\u001b[39;00m\u001b[39mnn\u001b[39;00m \u001b[39mimport\u001b[39;00m SAGEConv\n\u001b[0;32m      4\u001b[0m \u001b[39mfrom\u001b[39;00m \u001b[39mtorch_geometric\u001b[39;00m\u001b[39m.\u001b[39;00m\u001b[39mdatasets\u001b[39;00m \u001b[39mimport\u001b[39;00m Planetoid\n\u001b[1;32m----> 6\u001b[0m \u001b[39mclass\u001b[39;00m \u001b[39mBiLSTM\u001b[39;00m(torch\u001b[39m.\u001b[39mnn\u001b[39m.\u001b[39mModule):\n\u001b[0;32m      7\u001b[0m     \u001b[39mdef\u001b[39;00m \u001b[39m__init__\u001b[39m(\u001b[39mself\u001b[39m, in_channels, hidden_channels, num_layers\u001b[39m=\u001b[39m\u001b[39m1\u001b[39m):\n\u001b[0;32m      8\u001b[0m         \u001b[39msuper\u001b[39m(BiLSTM, \u001b[39mself\u001b[39m)\u001b[39m.\u001b[39m\u001b[39m__init__\u001b[39m()\n",
      "\u001b[1;31mNameError\u001b[0m: name 'torch' is not defined"
     ]
    }
   ],
   "source": [
    "import torch.nn as nn\n",
    "import torch.nn.functional as F\n",
    "from torch_geometric.nn import SAGEConv\n",
    "from torch_geometric.datasets import Planetoid\n",
    "\n",
    "class BiLSTM(torch.nn.Module):\n",
    "    def __init__(self, in_channels, hidden_channels, num_layers=1):\n",
    "        super(BiLSTM, self).__init__()\n",
    "        self.lstm = nn.LSTM(input_size=in_channels,\n",
    "                            hidden_size=hidden_channels,\n",
    "                            num_layers=num_layers,\n",
    "                            bidirectional=True,\n",
    "                            batch_first=True)\n",
    "        \n",
    "    def forward(self, x):\n",
    "        x = x.unsqueeze(0)\n",
    "        output, _ = self.lstm(x)\n",
    "        return output.squeeze(0)\n",
    "    \n",
    "class GraphSAGE(torch.nn.Module):\n",
    "    def __init__(self, in_channels, hidden_channels):\n",
    "        super(GraphSAGE, self).__init__()\n",
    "        self.conv1 = SAGEConv(in_channels, hidden_channels)\n",
    "\n",
    "    def forward(self, x, edge_index):\n",
    "        x = self.conv1(x, edge_index)\n",
    "        #x = F.dropout(x, p=0.9, training=self.training)\n",
    "        return x\n",
    "\n",
    "class CombinedModel(torch.nn.Module):\n",
    "    def __init__(self, in_channels, hidden_channels):\n",
    "        super(CombinedModel, self).__init__()\n",
    "        self.graphsage = GraphSAGE(in_channels, hidden_channels)\n",
    "        self.bilstm = BiLSTM(in_channels, hidden_channels//2)\n",
    "\n",
    "    def forward(self, trace, x, edge_index):\n",
    "        embeddings = self.graphsage(x, edge_index)\n",
    "        out_bilstm = self.bilstm(trace)\n",
    "        combined = torch.matmul(embeddings, out_bilstm.transpose(0, 1))\n",
    "        return combined\n",
    "\n",
    "device = torch.device('cuda' if torch.cuda.is_available() else 'cpu')\n",
    "model = CombinedModel(num_features, HIDDEN_DIM).to(device)\n",
    "data = data.to(device)\n",
    "traces_x = traces_x.to(device)\n",
    "traces_y = traces_y.to(device)\n",
    "optimizer = torch.optim.Adam(model.parameters(), lr=0.01, weight_decay=5e-4)\n",
    "\n",
    "def train(trace_x, trace_y):\n",
    "    model.train()\n",
    "    optimizer.zero_grad()\n",
    "    combined = model(trace_x, data.x, data.edge_index)\n",
    "    out = combined.transpose(0, 1)\n",
    "    loss = F.cross_entropy(out, trace_y)\n",
    "    loss.backward()\n",
    "    optimizer.step()\n",
    "    return loss.item()\n",
    "\n",
    "def test(traces_x, traces_y):\n",
    "    model.eval()\n",
    "    # loop through each trace\n",
    "\n",
    "    num_correct = 0\n",
    "    num_questions = 0\n",
    "\n",
    "    for i in range(len(traces_x)):\n",
    "        trace_x = traces_x[i]\n",
    "        trace_y = traces_y[i]\n",
    "        combined = model(trace_x, data.x, data.edge_index)\n",
    "        out = combined.transpose(0, 1)\n",
    "        pred = out.argmax(dim=1)\n",
    "        num_correct += pred.eq(trace_y).sum().item()\n",
    "        num_questions += len(trace_y)\n",
    "    \n",
    "    return num_correct / num_questions\n",
    "\n",
    "for epoch in range(1, 201):\n",
    "    for i in range(len(traces_x)):\n",
    "        trace_x = traces_x[i]\n",
    "        trace_y = traces_y[i]\n",
    "        loss = train(trace_x, trace_y)\n",
    "    if epoch % 10 == 0:\n",
    "        acc = test(traces_x=traces_x, traces_y=traces_y)\n",
    "        print(f'Epoch: {epoch}, Loss: {loss:.4f}, Test Acc: {acc:.4f}')\n"
   ]
  }
 ],
 "metadata": {
  "kernelspec": {
   "display_name": "practicum",
   "language": "python",
   "name": "python3"
  },
  "language_info": {
   "codemirror_mode": {
    "name": "ipython",
    "version": 3
   },
   "file_extension": ".py",
   "mimetype": "text/x-python",
   "name": "python",
   "nbconvert_exporter": "python",
   "pygments_lexer": "ipython3",
   "version": "3.11.3"
  },
  "orig_nbformat": 4
 },
 "nbformat": 4,
 "nbformat_minor": 2
}
