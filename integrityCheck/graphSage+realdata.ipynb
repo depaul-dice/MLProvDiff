{
 "cells": [
  {
   "cell_type": "code",
   "execution_count": 130,
   "metadata": {},
   "outputs": [],
   "source": [
    "import torch\n",
    "from torch_geometric.nn import SAGEConv\n",
    "\n",
    "class GraphSAGE(torch.nn.Module):\n",
    "    def __init__(self, in_channels, out_channels):\n",
    "        super(GraphSAGE, self).__init__()\n",
    "        self.conv1 = SAGEConv(in_channels, out_channels)\n",
    "\n",
    "    def forward(self, x, edge_index):\n",
    "        x = self.conv1(x, edge_index)\n",
    "        return x\n",
    "\n",
    "# Assuming your graph has 10 features per node and you want to output 2 features per node\n",
    "net = GraphSAGE(10, 2)\n",
    "\n",
    "# Dummy data\n",
    "x = torch.randn((100, 10))  # 100 nodes with 10 features each\n",
    "edge_index = torch.randint(0, 100, (2, 500))  # 500 edges\n",
    "\n",
    "# Forward pass\n",
    "out = net(x, edge_index)\n"
   ]
  },
  {
   "cell_type": "code",
   "execution_count": 131,
   "metadata": {},
   "outputs": [],
   "source": [
    "# open data in pkl\n",
    "import pickle\n",
    "\n",
    "with open('../../Dominators/graph/cat_combined_graph.pkl', 'rb') as f:\n",
    "    graph = pickle.load(f)"
   ]
  },
  {
   "cell_type": "code",
   "execution_count": 132,
   "metadata": {},
   "outputs": [],
   "source": [
    "# function that converts intger into binary list with fixed length\n",
    "def int2bin(num, max_length):\n",
    "    return [int(x) for x in bin(num)[2:].zfill(max_length)]\n"
   ]
  },
  {
   "cell_type": "code",
   "execution_count": 133,
   "metadata": {},
   "outputs": [],
   "source": [
    "# iterate through the graph and get a mapping of node to label\n",
    "node2label = {}\n",
    "for node in graph.nodes():\n",
    "    if node.split(\"__\")[0] not in node2label:\n",
    "        node2label[node.split(\"__\")[0]] = len(node2label)\n",
    "\n",
    "max_len = len(bin(len(node2label))[2:])\n",
    "\n",
    "# change the label to list in node2label\n",
    "for node in node2label:\n",
    "    node2label[node.split(\"__\")[0]] = int2bin(node2label[node.split(\"__\")[0]], max_len)"
   ]
  },
  {
   "cell_type": "code",
   "execution_count": 134,
   "metadata": {},
   "outputs": [],
   "source": [
    "# create a mapping of node to idx\n",
    "node2idx = {}\n",
    "for idx, node in enumerate(graph.nodes()):\n",
    "    node2idx[node] = idx"
   ]
  },
  {
   "cell_type": "code",
   "execution_count": 135,
   "metadata": {},
   "outputs": [],
   "source": [
    "# create an edge list\n",
    "edge_list_start = []\n",
    "edge_list_end = []\n",
    "\n",
    "for edge in graph.edges():\n",
    "    edge_list_start.append(node2idx[edge[0]])\n",
    "    edge_list_end.append(node2idx[edge[1]])\n",
    "\n",
    "edge_list = [edge_list_start, edge_list_end]\n",
    "edge_list = torch.tensor(edge_list, dtype=torch.long)\n",
    "\n",
    "# create a feature matrix\n",
    "feature_matrix = []\n",
    "for node in graph.nodes():\n",
    "    feature_matrix.append(node2label[node.split(\"__\")[0]])\n",
    "\n",
    "feature_matrix = torch.tensor(feature_matrix, dtype=torch.float)"
   ]
  },
  {
   "cell_type": "code",
   "execution_count": 136,
   "metadata": {},
   "outputs": [],
   "source": [
    "# experiment with the model\n",
    "\n",
    "# Assuming your graph has 10 features per node and you want to output 2 features per node\n",
    "net = GraphSAGE(max_len, 128)\n",
    "\n",
    "# Forward pass\n",
    "out = net(feature_matrix, edge_list)"
   ]
  }
 ],
 "metadata": {
  "kernelspec": {
   "display_name": "practicum",
   "language": "python",
   "name": "python3"
  },
  "language_info": {
   "codemirror_mode": {
    "name": "ipython",
    "version": 3
   },
   "file_extension": ".py",
   "mimetype": "text/x-python",
   "name": "python",
   "nbconvert_exporter": "python",
   "pygments_lexer": "ipython3",
   "version": "3.11.3"
  },
  "orig_nbformat": 4
 },
 "nbformat": 4,
 "nbformat_minor": 2
}
