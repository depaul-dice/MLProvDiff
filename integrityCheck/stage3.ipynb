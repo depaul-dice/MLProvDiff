{
 "cells": [
  {
   "cell_type": "code",
   "execution_count": 1,
   "metadata": {},
   "outputs": [],
   "source": [
    "import numpy as np\n",
    "import torch\n",
    "import pickle\n",
    "from torch_geometric.data import Data"
   ]
  },
  {
   "cell_type": "code",
   "execution_count": 14,
   "metadata": {},
   "outputs": [],
   "source": [
    "# Parameters\n",
    "HIDDEN_DIM = 256"
   ]
  },
  {
   "cell_type": "code",
   "execution_count": 15,
   "metadata": {},
   "outputs": [],
   "source": [
    "traces = pickle.load(open(\"../generateData/traces.pkl\", \"rb\"))\n",
    "featureMatrix = pickle.load(open(\"../generateData/nodeLabels.pkl\", \"rb\"))"
   ]
  },
  {
   "cell_type": "code",
   "execution_count": 16,
   "metadata": {},
   "outputs": [],
   "source": [
    "# number of nodes\n",
    "nodeNum = len(featureMatrix[0])\n",
    "\n",
    "# turn each element of a row in traces into one hot encoded vector\n",
    "def one_hot_encode(x):\n",
    "    vec = np.zeros(nodeNum)\n",
    "    vec[x] = 1\n",
    "    return vec\n",
    "\n",
    "traces_x = np.array([[one_hot_encode(x) for x in row] for row in traces])\n",
    "\n",
    "# to tensor\n",
    "traces_x = torch.tensor(traces_x, dtype=torch.float)\n",
    "traces_y = traces\n"
   ]
  },
  {
   "cell_type": "code",
   "execution_count": 17,
   "metadata": {},
   "outputs": [
    {
     "data": {
      "text/plain": [
       "(torch.Size([50, 3, 111]), torch.Size([50, 3]))"
      ]
     },
     "execution_count": 17,
     "metadata": {},
     "output_type": "execute_result"
    }
   ],
   "source": [
    "traces_x.size(), traces_y.size()"
   ]
  },
  {
   "cell_type": "code",
   "execution_count": 18,
   "metadata": {},
   "outputs": [],
   "source": [
    "# Data(x=[2708, 1433], edge_index=[2, 10556], y=[2708], train_mask=[2708], val_mask=[2708], test_mask=[2708])\n",
    "featureMatrix = pickle.load(open(\"../generateData/nodeLabels.pkl\", \"rb\"))\n",
    "adjacencyList = pickle.load(open(\"../generateData/adjacencyList.pkl\", \"rb\"))\n",
    "\n",
    "# give the labels to the nodes\n",
    "y = [] \n",
    "for i in range(len(featureMatrix)): y.append(i)\n",
    "y = torch.tensor(y, dtype=torch.long)\n",
    "\n",
    "# randomly select 20 percent of the indices to be test indices\n",
    "test_mask = np.random.choice(len(traces_x), int(len(traces_x) * 0.2), replace=False)\n",
    "test_mask = torch.tensor(test_mask, dtype=torch.long)\n",
    "\n",
    "data = Data(x=featureMatrix, edge_index=adjacencyList, y=y, test_mask=test_mask)\n",
    "\n",
    "# num features & num classes\n",
    "num_features = len(featureMatrix[0])\n",
    "num_classes = len(featureMatrix[0])"
   ]
  },
  {
   "cell_type": "code",
   "execution_count": 19,
   "metadata": {},
   "outputs": [
    {
     "name": "stdout",
     "output_type": "stream",
     "text": [
      "Epoch: 10, Loss: 1.9468, Test Acc: 0.9133\n",
      "Epoch: 20, Loss: 1.8138, Test Acc: 1.0000\n",
      "Epoch: 30, Loss: 1.8097, Test Acc: 1.0000\n"
     ]
    },
    {
     "ename": "KeyboardInterrupt",
     "evalue": "",
     "output_type": "error",
     "traceback": [
      "\u001b[1;31m---------------------------------------------------------------------------\u001b[0m",
      "\u001b[1;31mKeyboardInterrupt\u001b[0m                         Traceback (most recent call last)",
      "Cell \u001b[1;32mIn[19], line 86\u001b[0m\n\u001b[0;32m     84\u001b[0m     trace_x \u001b[39m=\u001b[39m traces_x[i]\n\u001b[0;32m     85\u001b[0m     trace_y \u001b[39m=\u001b[39m traces_y[i]\n\u001b[1;32m---> 86\u001b[0m     loss \u001b[39m=\u001b[39m train(trace_x, trace_y)\n\u001b[0;32m     87\u001b[0m \u001b[39mif\u001b[39;00m epoch \u001b[39m%\u001b[39m \u001b[39m10\u001b[39m \u001b[39m==\u001b[39m \u001b[39m0\u001b[39m:\n\u001b[0;32m     88\u001b[0m     acc \u001b[39m=\u001b[39m test(traces_x\u001b[39m=\u001b[39mtraces_x, traces_y\u001b[39m=\u001b[39mtraces_y)\n",
      "Cell \u001b[1;32mIn[19], line 57\u001b[0m, in \u001b[0;36mtrain\u001b[1;34m(trace_x, trace_y)\u001b[0m\n\u001b[0;32m     55\u001b[0m model\u001b[39m.\u001b[39mtrain()\n\u001b[0;32m     56\u001b[0m optimizer\u001b[39m.\u001b[39mzero_grad()\n\u001b[1;32m---> 57\u001b[0m combined \u001b[39m=\u001b[39m model(trace_x, data\u001b[39m.\u001b[39;49mx, data\u001b[39m.\u001b[39;49medge_index)\n\u001b[0;32m     58\u001b[0m out \u001b[39m=\u001b[39m combined\u001b[39m.\u001b[39mtranspose(\u001b[39m0\u001b[39m, \u001b[39m1\u001b[39m)\n\u001b[0;32m     59\u001b[0m loss \u001b[39m=\u001b[39m F\u001b[39m.\u001b[39mcross_entropy(out, trace_y)\n",
      "File \u001b[1;32mc:\\Users\\mnihy\\anaconda3\\envs\\practicum\\Lib\\site-packages\\torch\\nn\\modules\\module.py:1501\u001b[0m, in \u001b[0;36mModule._call_impl\u001b[1;34m(self, *args, **kwargs)\u001b[0m\n\u001b[0;32m   1496\u001b[0m \u001b[39m# If we don't have any hooks, we want to skip the rest of the logic in\u001b[39;00m\n\u001b[0;32m   1497\u001b[0m \u001b[39m# this function, and just call forward.\u001b[39;00m\n\u001b[0;32m   1498\u001b[0m \u001b[39mif\u001b[39;00m \u001b[39mnot\u001b[39;00m (\u001b[39mself\u001b[39m\u001b[39m.\u001b[39m_backward_hooks \u001b[39mor\u001b[39;00m \u001b[39mself\u001b[39m\u001b[39m.\u001b[39m_backward_pre_hooks \u001b[39mor\u001b[39;00m \u001b[39mself\u001b[39m\u001b[39m.\u001b[39m_forward_hooks \u001b[39mor\u001b[39;00m \u001b[39mself\u001b[39m\u001b[39m.\u001b[39m_forward_pre_hooks\n\u001b[0;32m   1499\u001b[0m         \u001b[39mor\u001b[39;00m _global_backward_pre_hooks \u001b[39mor\u001b[39;00m _global_backward_hooks\n\u001b[0;32m   1500\u001b[0m         \u001b[39mor\u001b[39;00m _global_forward_hooks \u001b[39mor\u001b[39;00m _global_forward_pre_hooks):\n\u001b[1;32m-> 1501\u001b[0m     \u001b[39mreturn\u001b[39;00m forward_call(\u001b[39m*\u001b[39;49margs, \u001b[39m*\u001b[39;49m\u001b[39m*\u001b[39;49mkwargs)\n\u001b[0;32m   1502\u001b[0m \u001b[39m# Do not call functions when jit is used\u001b[39;00m\n\u001b[0;32m   1503\u001b[0m full_backward_hooks, non_full_backward_hooks \u001b[39m=\u001b[39m [], []\n",
      "Cell \u001b[1;32mIn[19], line 41\u001b[0m, in \u001b[0;36mCombinedModel.forward\u001b[1;34m(self, trace, x, edge_index)\u001b[0m\n\u001b[0;32m     40\u001b[0m \u001b[39mdef\u001b[39;00m \u001b[39mforward\u001b[39m(\u001b[39mself\u001b[39m, trace, x, edge_index):\n\u001b[1;32m---> 41\u001b[0m     out_graphsage, embeddings \u001b[39m=\u001b[39m \u001b[39mself\u001b[39;49m\u001b[39m.\u001b[39;49mgraphsage(x, edge_index)\n\u001b[0;32m     42\u001b[0m     out_bilstm \u001b[39m=\u001b[39m \u001b[39mself\u001b[39m\u001b[39m.\u001b[39mbilstm(trace)\n\u001b[0;32m     43\u001b[0m     \u001b[39m# print(embeddings.size(), out_bilstm.size())\u001b[39;00m\n",
      "File \u001b[1;32mc:\\Users\\mnihy\\anaconda3\\envs\\practicum\\Lib\\site-packages\\torch\\nn\\modules\\module.py:1501\u001b[0m, in \u001b[0;36mModule._call_impl\u001b[1;34m(self, *args, **kwargs)\u001b[0m\n\u001b[0;32m   1496\u001b[0m \u001b[39m# If we don't have any hooks, we want to skip the rest of the logic in\u001b[39;00m\n\u001b[0;32m   1497\u001b[0m \u001b[39m# this function, and just call forward.\u001b[39;00m\n\u001b[0;32m   1498\u001b[0m \u001b[39mif\u001b[39;00m \u001b[39mnot\u001b[39;00m (\u001b[39mself\u001b[39m\u001b[39m.\u001b[39m_backward_hooks \u001b[39mor\u001b[39;00m \u001b[39mself\u001b[39m\u001b[39m.\u001b[39m_backward_pre_hooks \u001b[39mor\u001b[39;00m \u001b[39mself\u001b[39m\u001b[39m.\u001b[39m_forward_hooks \u001b[39mor\u001b[39;00m \u001b[39mself\u001b[39m\u001b[39m.\u001b[39m_forward_pre_hooks\n\u001b[0;32m   1499\u001b[0m         \u001b[39mor\u001b[39;00m _global_backward_pre_hooks \u001b[39mor\u001b[39;00m _global_backward_hooks\n\u001b[0;32m   1500\u001b[0m         \u001b[39mor\u001b[39;00m _global_forward_hooks \u001b[39mor\u001b[39;00m _global_forward_pre_hooks):\n\u001b[1;32m-> 1501\u001b[0m     \u001b[39mreturn\u001b[39;00m forward_call(\u001b[39m*\u001b[39;49margs, \u001b[39m*\u001b[39;49m\u001b[39m*\u001b[39;49mkwargs)\n\u001b[0;32m   1502\u001b[0m \u001b[39m# Do not call functions when jit is used\u001b[39;00m\n\u001b[0;32m   1503\u001b[0m full_backward_hooks, non_full_backward_hooks \u001b[39m=\u001b[39m [], []\n",
      "Cell \u001b[1;32mIn[19], line 31\u001b[0m, in \u001b[0;36mGraphSAGE.forward\u001b[1;34m(self, x, edge_index)\u001b[0m\n\u001b[0;32m     29\u001b[0m hidden_embeddings \u001b[39m=\u001b[39m x\u001b[39m.\u001b[39mdetach()  \u001b[39m# Store the hidden node embeddings\u001b[39;00m\n\u001b[0;32m     30\u001b[0m x \u001b[39m=\u001b[39m F\u001b[39m.\u001b[39mdropout(x, p\u001b[39m=\u001b[39m\u001b[39m0.5\u001b[39m, training\u001b[39m=\u001b[39m\u001b[39mself\u001b[39m\u001b[39m.\u001b[39mtraining)\n\u001b[1;32m---> 31\u001b[0m x \u001b[39m=\u001b[39m \u001b[39mself\u001b[39;49m\u001b[39m.\u001b[39;49mconv2(x, edge_index)\n\u001b[0;32m     32\u001b[0m \u001b[39mreturn\u001b[39;00m x, hidden_embeddings\n",
      "File \u001b[1;32mc:\\Users\\mnihy\\anaconda3\\envs\\practicum\\Lib\\site-packages\\torch\\nn\\modules\\module.py:1501\u001b[0m, in \u001b[0;36mModule._call_impl\u001b[1;34m(self, *args, **kwargs)\u001b[0m\n\u001b[0;32m   1496\u001b[0m \u001b[39m# If we don't have any hooks, we want to skip the rest of the logic in\u001b[39;00m\n\u001b[0;32m   1497\u001b[0m \u001b[39m# this function, and just call forward.\u001b[39;00m\n\u001b[0;32m   1498\u001b[0m \u001b[39mif\u001b[39;00m \u001b[39mnot\u001b[39;00m (\u001b[39mself\u001b[39m\u001b[39m.\u001b[39m_backward_hooks \u001b[39mor\u001b[39;00m \u001b[39mself\u001b[39m\u001b[39m.\u001b[39m_backward_pre_hooks \u001b[39mor\u001b[39;00m \u001b[39mself\u001b[39m\u001b[39m.\u001b[39m_forward_hooks \u001b[39mor\u001b[39;00m \u001b[39mself\u001b[39m\u001b[39m.\u001b[39m_forward_pre_hooks\n\u001b[0;32m   1499\u001b[0m         \u001b[39mor\u001b[39;00m _global_backward_pre_hooks \u001b[39mor\u001b[39;00m _global_backward_hooks\n\u001b[0;32m   1500\u001b[0m         \u001b[39mor\u001b[39;00m _global_forward_hooks \u001b[39mor\u001b[39;00m _global_forward_pre_hooks):\n\u001b[1;32m-> 1501\u001b[0m     \u001b[39mreturn\u001b[39;00m forward_call(\u001b[39m*\u001b[39;49margs, \u001b[39m*\u001b[39;49m\u001b[39m*\u001b[39;49mkwargs)\n\u001b[0;32m   1502\u001b[0m \u001b[39m# Do not call functions when jit is used\u001b[39;00m\n\u001b[0;32m   1503\u001b[0m full_backward_hooks, non_full_backward_hooks \u001b[39m=\u001b[39m [], []\n",
      "File \u001b[1;32mc:\\Users\\mnihy\\anaconda3\\envs\\practicum\\Lib\\site-packages\\torch_geometric\\nn\\conv\\sage_conv.py:131\u001b[0m, in \u001b[0;36mSAGEConv.forward\u001b[1;34m(self, x, edge_index, size)\u001b[0m\n\u001b[0;32m    128\u001b[0m     x \u001b[39m=\u001b[39m (\u001b[39mself\u001b[39m\u001b[39m.\u001b[39mlin(x[\u001b[39m0\u001b[39m])\u001b[39m.\u001b[39mrelu(), x[\u001b[39m1\u001b[39m])\n\u001b[0;32m    130\u001b[0m \u001b[39m# propagate_type: (x: OptPairTensor)\u001b[39;00m\n\u001b[1;32m--> 131\u001b[0m out \u001b[39m=\u001b[39m \u001b[39mself\u001b[39;49m\u001b[39m.\u001b[39;49mpropagate(edge_index, x\u001b[39m=\u001b[39;49mx, size\u001b[39m=\u001b[39;49msize)\n\u001b[0;32m    132\u001b[0m out \u001b[39m=\u001b[39m \u001b[39mself\u001b[39m\u001b[39m.\u001b[39mlin_l(out)\n\u001b[0;32m    134\u001b[0m x_r \u001b[39m=\u001b[39m x[\u001b[39m1\u001b[39m]\n",
      "File \u001b[1;32mc:\\Users\\mnihy\\anaconda3\\envs\\practicum\\Lib\\site-packages\\torch_geometric\\nn\\conv\\message_passing.py:459\u001b[0m, in \u001b[0;36mMessagePassing.propagate\u001b[1;34m(self, edge_index, size, **kwargs)\u001b[0m\n\u001b[0;32m    456\u001b[0m     \u001b[39mfor\u001b[39;00m arg \u001b[39min\u001b[39;00m decomp_args:\n\u001b[0;32m    457\u001b[0m         kwargs[arg] \u001b[39m=\u001b[39m decomp_kwargs[arg][i]\n\u001b[1;32m--> 459\u001b[0m coll_dict \u001b[39m=\u001b[39m \u001b[39mself\u001b[39;49m\u001b[39m.\u001b[39;49m_collect(\u001b[39mself\u001b[39;49m\u001b[39m.\u001b[39;49m_user_args, edge_index, size,\n\u001b[0;32m    460\u001b[0m                           kwargs)\n\u001b[0;32m    462\u001b[0m msg_kwargs \u001b[39m=\u001b[39m \u001b[39mself\u001b[39m\u001b[39m.\u001b[39minspector\u001b[39m.\u001b[39mdistribute(\u001b[39m'\u001b[39m\u001b[39mmessage\u001b[39m\u001b[39m'\u001b[39m, coll_dict)\n\u001b[0;32m    463\u001b[0m \u001b[39mfor\u001b[39;00m hook \u001b[39min\u001b[39;00m \u001b[39mself\u001b[39m\u001b[39m.\u001b[39m_message_forward_pre_hooks\u001b[39m.\u001b[39mvalues():\n",
      "File \u001b[1;32mc:\\Users\\mnihy\\anaconda3\\envs\\practicum\\Lib\\site-packages\\torch_geometric\\nn\\conv\\message_passing.py:336\u001b[0m, in \u001b[0;36mMessagePassing._collect\u001b[1;34m(self, args, edge_index, size, kwargs)\u001b[0m\n\u001b[0;32m    334\u001b[0m         \u001b[39mif\u001b[39;00m \u001b[39misinstance\u001b[39m(data, Tensor):\n\u001b[0;32m    335\u001b[0m             \u001b[39mself\u001b[39m\u001b[39m.\u001b[39m_set_size(size, dim, data)\n\u001b[1;32m--> 336\u001b[0m             data \u001b[39m=\u001b[39m \u001b[39mself\u001b[39;49m\u001b[39m.\u001b[39;49m_lift(data, edge_index, dim)\n\u001b[0;32m    338\u001b[0m         out[arg] \u001b[39m=\u001b[39m data\n\u001b[0;32m    340\u001b[0m \u001b[39mif\u001b[39;00m is_torch_sparse_tensor(edge_index):\n",
      "File \u001b[1;32mc:\\Users\\mnihy\\anaconda3\\envs\\practicum\\Lib\\site-packages\\torch_geometric\\nn\\conv\\message_passing.py:272\u001b[0m, in \u001b[0;36mMessagePassing._lift\u001b[1;34m(self, src, edge_index, dim)\u001b[0m\n\u001b[0;32m    270\u001b[0m \u001b[39mtry\u001b[39;00m:\n\u001b[0;32m    271\u001b[0m     index \u001b[39m=\u001b[39m edge_index[dim]\n\u001b[1;32m--> 272\u001b[0m     \u001b[39mreturn\u001b[39;00m src\u001b[39m.\u001b[39;49mindex_select(\u001b[39mself\u001b[39;49m\u001b[39m.\u001b[39;49mnode_dim, index)\n\u001b[0;32m    273\u001b[0m \u001b[39mexcept\u001b[39;00m (\u001b[39mIndexError\u001b[39;00m, \u001b[39mRuntimeError\u001b[39;00m) \u001b[39mas\u001b[39;00m e:\n\u001b[0;32m    274\u001b[0m     \u001b[39mif\u001b[39;00m index\u001b[39m.\u001b[39mmin() \u001b[39m<\u001b[39m \u001b[39m0\u001b[39m \u001b[39mor\u001b[39;00m index\u001b[39m.\u001b[39mmax() \u001b[39m>\u001b[39m\u001b[39m=\u001b[39m src\u001b[39m.\u001b[39msize(\u001b[39mself\u001b[39m\u001b[39m.\u001b[39mnode_dim):\n",
      "\u001b[1;31mKeyboardInterrupt\u001b[0m: "
     ]
    }
   ],
   "source": [
    "import torch.nn as nn\n",
    "import torch.nn.functional as F\n",
    "from torch_geometric.nn import SAGEConv\n",
    "from torch_geometric.datasets import Planetoid\n",
    "\n",
    "class BiLSTM(torch.nn.Module):\n",
    "    def __init__(self, in_channels, hidden_channels, num_layers=1):\n",
    "        super(BiLSTM, self).__init__()\n",
    "        self.lstm = nn.LSTM(input_size=in_channels,\n",
    "                            hidden_size=hidden_channels,\n",
    "                            num_layers=num_layers,\n",
    "                            bidirectional=True,\n",
    "                            batch_first=True)\n",
    "        \n",
    "    def forward(self, x):\n",
    "        x = x.unsqueeze(0)\n",
    "        output, _ = self.lstm(x)\n",
    "        return output.squeeze(0)\n",
    "    \n",
    "class GraphSAGE(torch.nn.Module):\n",
    "    def __init__(self, in_channels, hidden_channels, out_channels):\n",
    "        super(GraphSAGE, self).__init__()\n",
    "        self.conv1 = SAGEConv(in_channels, hidden_channels)\n",
    "        self.conv2 = SAGEConv(hidden_channels, out_channels)\n",
    "\n",
    "    def forward(self, x, edge_index):\n",
    "        x = self.conv1(x, edge_index)\n",
    "        x = F.relu(x)\n",
    "        hidden_embeddings = x.detach()  # Store the hidden node embeddings\n",
    "        x = F.dropout(x, p=0.5, training=self.training)\n",
    "        x = self.conv2(x, edge_index)\n",
    "        return x, hidden_embeddings\n",
    "\n",
    "class CombinedModel(torch.nn.Module):\n",
    "    def __init__(self, in_channels, hidden_channels, out_channels):\n",
    "        super(CombinedModel, self).__init__()\n",
    "        self.graphsage = GraphSAGE(in_channels, hidden_channels, out_channels)\n",
    "        self.bilstm = BiLSTM(in_channels, hidden_channels//2)\n",
    "\n",
    "    def forward(self, trace, x, edge_index):\n",
    "        out_graphsage, embeddings = self.graphsage(x, edge_index)\n",
    "        out_bilstm = self.bilstm(trace)\n",
    "        # print(embeddings.size(), out_bilstm.size())\n",
    "        combined = torch.matmul(embeddings, out_bilstm.transpose(0, 1))\n",
    "        return combined\n",
    "\n",
    "device = torch.device('cuda' if torch.cuda.is_available() else 'cpu')\n",
    "model = CombinedModel(num_features, HIDDEN_DIM, num_classes).to(device)\n",
    "data = data.to(device)\n",
    "traces_x = traces_x.to(device)\n",
    "traces_y = traces_y.to(device)\n",
    "optimizer = torch.optim.Adam(model.parameters(), lr=0.01, weight_decay=5e-4)\n",
    "\n",
    "def train(trace_x, trace_y):\n",
    "    model.train()\n",
    "    optimizer.zero_grad()\n",
    "    combined = model(trace_x, data.x, data.edge_index)\n",
    "    out = combined.transpose(0, 1)\n",
    "    loss = F.cross_entropy(out, trace_y)\n",
    "    loss.backward()\n",
    "    optimizer.step()\n",
    "    return loss.item()\n",
    "\n",
    "def test(traces_x, traces_y):\n",
    "    model.eval()\n",
    "    # loop through each trace\n",
    "\n",
    "    num_correct = 0\n",
    "    num_questions = 0\n",
    "\n",
    "    for i in range(len(traces_x)):\n",
    "        trace_x = traces_x[i]\n",
    "        trace_y = traces_y[i]\n",
    "        combined = model(trace_x, data.x, data.edge_index)\n",
    "        out = combined.transpose(0, 1)\n",
    "        pred = out.argmax(dim=1)\n",
    "        num_correct += pred.eq(trace_y).sum().item()\n",
    "        num_questions += len(trace_y)\n",
    "    \n",
    "    return num_correct / num_questions\n",
    "\n",
    "for epoch in range(1, 201):\n",
    "    for i in range(len(traces_x)):\n",
    "        trace_x = traces_x[i]\n",
    "        trace_y = traces_y[i]\n",
    "        loss = train(trace_x, trace_y)\n",
    "    if epoch % 10 == 0:\n",
    "        acc = test(traces_x=traces_x, traces_y=traces_y)\n",
    "        print(f'Epoch: {epoch}, Loss: {loss:.4f}, Test Acc: {acc:.4f}')\n"
   ]
  }
 ],
 "metadata": {
  "kernelspec": {
   "display_name": "practicum",
   "language": "python",
   "name": "python3"
  },
  "language_info": {
   "codemirror_mode": {
    "name": "ipython",
    "version": 3
   },
   "file_extension": ".py",
   "mimetype": "text/x-python",
   "name": "python",
   "nbconvert_exporter": "python",
   "pygments_lexer": "ipython3",
   "version": "3.11.3"
  },
  "orig_nbformat": 4
 },
 "nbformat": 4,
 "nbformat_minor": 2
}
