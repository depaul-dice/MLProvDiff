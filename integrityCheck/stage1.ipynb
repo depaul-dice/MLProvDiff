{
 "cells": [
  {
   "cell_type": "code",
   "execution_count": 1,
   "metadata": {},
   "outputs": [],
   "source": [
    "import numpy as np\n",
    "import torch\n",
    "import pickle"
   ]
  },
  {
   "cell_type": "code",
   "execution_count": 2,
   "metadata": {},
   "outputs": [],
   "source": [
    "# Parameters\n",
    "HIDDEN_DIM = 128"
   ]
  },
  {
   "cell_type": "code",
   "execution_count": 8,
   "metadata": {},
   "outputs": [],
   "source": [
    "traces = pickle.load(open(\"../generateData/traces.pkl\", \"rb\"))\n",
    "featureMatrix = pickle.load(open(\"../generateData/nodeLabels.pkl\", \"rb\"))"
   ]
  },
  {
   "cell_type": "code",
   "execution_count": 6,
   "metadata": {},
   "outputs": [],
   "source": [
    "# number of nodes\n",
    "nodeNum = len(featureMatrix[0])\n",
    "\n",
    "# turn each element of a row in traces into one hot encoded vector\n",
    "def one_hot_encode(x):\n",
    "    vec = np.zeros(nodeNum)\n",
    "    vec[x] = 1\n",
    "    return vec\n",
    "\n",
    "traces_x = np.array([[one_hot_encode(x) for x in row] for row in traces])\n",
    "\n",
    "# to tensor\n",
    "traces_x = torch.tensor(traces_x, dtype=torch.long)\n",
    "traces_y = traces\n"
   ]
  },
  {
   "cell_type": "code",
   "execution_count": 11,
   "metadata": {},
   "outputs": [
    {
     "data": {
      "text/plain": [
       "(torch.Size([100, 3, 111]), torch.Size([100, 3]))"
      ]
     },
     "execution_count": 11,
     "metadata": {},
     "output_type": "execute_result"
    }
   ],
   "source": [
    "traces_x.size(), traces_y.size()"
   ]
  },
  {
   "cell_type": "code",
   "execution_count": 12,
   "metadata": {},
   "outputs": [],
   "source": [
    "# Data(x=[2708, 1433], edge_index=[2, 10556], y=[2708], train_mask=[2708], val_mask=[2708], test_mask=[2708])\n",
    "featureMatrix = pickle.load(open(\"../generateData/nodeLabels.pkl\", \"rb\"))\n",
    "adjacencyList = pickle.load(open(\"../generateData/adjacencyList.pkl\", \"rb\"))\n",
    "\n",
    "# give the labels to the nodes\n",
    "y = [] \n",
    "for i in range(len(featureMatrix)): y.append(i)\n",
    "y = torch.tensor(y, dtype=torch.long)\n",
    "\n",
    "# randomly mask 10 percent of the data for test\n",
    "test_mask = torch.zeros(len(featureMatrix), dtype=torch.bool)\n",
    "test_mask[:int(len(featureMatrix)*0.2)] = 1\n",
    "test_mask = test_mask[torch.randperm(test_mask.size(0))] # shuffle the train_mask\n",
    "\n",
    "data = Data(x=featureMatrix, edge_index=adjacencyList, y=y, test_mask=test_mask)\n",
    "\n",
    "# num features & num classes\n",
    "num_features = len(featureMatrix[0])\n",
    "num_classes = len(featureMatrix[0])"
   ]
  },
  {
   "cell_type": "code",
   "execution_count": 11,
   "metadata": {},
   "outputs": [
    {
     "name": "stdout",
     "output_type": "stream",
     "text": [
      "torch.Size([111, 111])\n",
      "torch.Size([111, 111])\n",
      "torch.Size([111, 111])\n",
      "torch.Size([111, 111])\n",
      "torch.Size([111, 111])\n",
      "torch.Size([111, 111])\n",
      "torch.Size([111, 111])\n",
      "torch.Size([111, 111])\n",
      "torch.Size([111, 111])\n",
      "torch.Size([111, 111])\n"
     ]
    },
    {
     "ename": "TypeError",
     "evalue": "unsupported format string passed to NoneType.__format__",
     "output_type": "error",
     "traceback": [
      "\u001b[1;31m---------------------------------------------------------------------------\u001b[0m",
      "\u001b[1;31mTypeError\u001b[0m                                 Traceback (most recent call last)",
      "Cell \u001b[1;32mIn[11], line 78\u001b[0m\n\u001b[0;32m     76\u001b[0m \u001b[39mif\u001b[39;00m epoch \u001b[39m%\u001b[39m \u001b[39m10\u001b[39m \u001b[39m==\u001b[39m \u001b[39m0\u001b[39m:\n\u001b[0;32m     77\u001b[0m     acc \u001b[39m=\u001b[39m test()\n\u001b[1;32m---> 78\u001b[0m     \u001b[39mprint\u001b[39m(\u001b[39mf\u001b[39m\u001b[39m'\u001b[39m\u001b[39mEpoch: \u001b[39m\u001b[39m{\u001b[39;00mepoch\u001b[39m}\u001b[39;00m\u001b[39m, Loss: \u001b[39m\u001b[39m{\u001b[39;00mloss\u001b[39m:\u001b[39;00m\u001b[39m.4f\u001b[39m\u001b[39m}\u001b[39;00m\u001b[39m, Test Acc: \u001b[39m\u001b[39m{\u001b[39;00macc\u001b[39m:\u001b[39;00m\u001b[39m.4f\u001b[39m\u001b[39m}\u001b[39;00m\u001b[39m'\u001b[39m)\n",
      "\u001b[1;31mTypeError\u001b[0m: unsupported format string passed to NoneType.__format__"
     ]
    }
   ],
   "source": [
    "import torch.nn as nn\n",
    "import torch.nn.functional as F\n",
    "from torch_geometric.nn import SAGEConv\n",
    "from torch_geometric.datasets import Planetoid\n",
    "\n",
    "class BiLSTM(torch.nn.Module):\n",
    "    def __init__(self, in_channels, hidden_channels, num_layers=1):\n",
    "        super(BiLSTM, self).__init__()\n",
    "        self.lstm = nn.LSTM(input_size=in_channels,\n",
    "                            hidden_size=hidden_channels,\n",
    "                            num_layers=num_layers,\n",
    "                            bidirectional=True,\n",
    "                            batch_first=True)\n",
    "        \n",
    "    def forward(self, x):\n",
    "        x = x.unsqueeze(0)\n",
    "        output, _ = self.lstm(x)\n",
    "        return output.squeeze(0)\n",
    "    \n",
    "class GraphSAGE(torch.nn.Module):\n",
    "    def __init__(self, in_channels, hidden_channels, out_channels):\n",
    "        super(GraphSAGE, self).__init__()\n",
    "        self.conv1 = SAGEConv(in_channels, hidden_channels)\n",
    "        self.conv2 = SAGEConv(hidden_channels, out_channels)\n",
    "\n",
    "    def forward(self, x, edge_index):\n",
    "        x = self.conv1(x, edge_index)\n",
    "        x = F.relu(x)\n",
    "        hidden_embeddings = x.detach()  # Store the hidden node embeddings\n",
    "        x = F.dropout(x, p=0.5, training=self.training)\n",
    "        x = self.conv2(x, edge_index)\n",
    "        return x, hidden_embeddings\n",
    "\n",
    "class CombinedModel(torch.nn.Module):\n",
    "    def __init__(self, in_channels, hidden_channels, out_channels):\n",
    "        super(CombinedModel, self).__init__()\n",
    "        self.graphsage = GraphSAGE(in_channels, hidden_channels, out_channels)\n",
    "        self.bilstm = BiLSTM(in_channels, hidden_channels//2)\n",
    "\n",
    "    def forward(self, x, edge_index):\n",
    "        out_graphsage, embeddings = self.graphsage(x, edge_index)\n",
    "        out_bilstm = self.bilstm(x)\n",
    "        combined = torch.matmul(embeddings, out_bilstm.transpose(0, 1))\n",
    "        return combined\n",
    "\n",
    "device = torch.device('cuda' if torch.cuda.is_available() else 'cpu')\n",
    "model = CombinedModel(num_features, HIDDEN_DIM, num_classes).to(device)\n",
    "data = data.to(device)\n",
    "optimizer = torch.optim.Adam(model.parameters(), lr=0.01, weight_decay=5e-4)\n",
    "\n",
    "def train():\n",
    "    model.train()\n",
    "    optimizer.zero_grad()\n",
    "    combined = model(data.x, data.edge_index)\n",
    "    out = torch.matmul(combined, combined.transpose(0, 1))\n",
    "    labels = data.y\n",
    "    loss = F.cross_entropy(out, labels)\n",
    "    loss.backward()\n",
    "    optimizer.step()\n",
    "    return loss.item()\n",
    "\n",
    "def test():\n",
    "    model.eval()\n",
    "    combined = model(data.x, data.edge_index)\n",
    "    out = torch.matmul(combined, combined.transpose(0, 1))\n",
    "    out = out[data.test_mask, :]\n",
    "    pred = out.argmax(dim=1)\n",
    "    correct = pred.eq(data.y[data.test_mask]).sum().item()\n",
    "    return correct / data.test_mask.sum().item()\n",
    "\n",
    "for epoch in range(1, 201):\n",
    "    loss = train()\n",
    "    if epoch % 10 == 0:\n",
    "        acc = test()\n",
    "        print(f'Epoch: {epoch}, Loss: {loss:.4f}, Test Acc: {acc:.4f}')\n"
   ]
  },
  {
   "cell_type": "code",
   "execution_count": null,
   "metadata": {},
   "outputs": [
    {
     "data": {
      "text/plain": [
       "tensor([[1., 0., 0.,  ..., 0., 0., 0.],\n",
       "        [0., 1., 0.,  ..., 0., 0., 0.],\n",
       "        [0., 0., 1.,  ..., 0., 0., 0.],\n",
       "        ...,\n",
       "        [0., 0., 0.,  ..., 1., 0., 0.],\n",
       "        [0., 0., 0.,  ..., 0., 1., 0.],\n",
       "        [0., 0., 0.,  ..., 0., 0., 1.]])"
      ]
     },
     "execution_count": 9,
     "metadata": {},
     "output_type": "execute_result"
    }
   ],
   "source": [
    "data.x"
   ]
  }
 ],
 "metadata": {
  "kernelspec": {
   "display_name": "practicum",
   "language": "python",
   "name": "python3"
  },
  "language_info": {
   "codemirror_mode": {
    "name": "ipython",
    "version": 3
   },
   "file_extension": ".py",
   "mimetype": "text/x-python",
   "name": "python",
   "nbconvert_exporter": "python",
   "pygments_lexer": "ipython3",
   "version": "3.11.3"
  },
  "orig_nbformat": 4
 },
 "nbformat": 4,
 "nbformat_minor": 2
}
